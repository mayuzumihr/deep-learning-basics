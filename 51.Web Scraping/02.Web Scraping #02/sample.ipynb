{
 "cells": [
  {
   "cell_type": "code",
   "execution_count": 6,
   "id": "a60233dd",
   "metadata": {},
   "outputs": [],
   "source": [
    "from selenium import webdriver\n",
    "from selenium.webdriver.common.by import By"
   ]
  },
  {
   "cell_type": "code",
   "execution_count": 7,
   "id": "65392121",
   "metadata": {},
   "outputs": [],
   "source": [
    "URL = \"http://localhost/index.html\"\n",
    "\n",
    "options = webdriver.ChromeOptions()\n",
    "driver = webdriver.Chrome(options=options)\n",
    "\n",
    "driver.get(URL)"
   ]
  },
  {
   "cell_type": "code",
   "execution_count": 8,
   "id": "c15fb683",
   "metadata": {},
   "outputs": [
    {
     "name": "stdout",
     "output_type": "stream",
     "text": [
      "<h1 id=\"main-title\" class=\"title\">スクレイピング練習ページ</h1>\n",
      "スクレイピング練習ページ\n",
      "main-title\n",
      "title\n"
     ]
    }
   ],
   "source": [
    "# 属性値やコンテンツの取得\n",
    "element = driver.find_element(By.TAG_NAME, \"h1\")\n",
    "print(element.get_attribute(\"outerHTML\"))             # 要素全体を取得\n",
    "print(element.text)                                   # コンテンツを取得\n",
    "print(element.get_attribute(\"id\"))                    # 属性名を指定して属性値を取得\n",
    "print(element.get_attribute(\"class\"))                 # 属性名を指定して属性値を取得\n"
   ]
  },
  {
   "cell_type": "code",
   "execution_count": 9,
   "id": "8999749e",
   "metadata": {},
   "outputs": [
    {
     "name": "stdout",
     "output_type": "stream",
     "text": [
      "<h1 id=\"main-title\" class=\"title\">スクレイピング練習ページ</h1>\n",
      "<h1 id=\"main-title\" class=\"title\">スクレイピング練習ページ</h1>\n",
      "<h1 id=\"main-title\" class=\"title\">スクレイピング練習ページ</h1>\n",
      "<h1 id=\"main-title\" class=\"title\">スクレイピング練習ページ</h1>\n",
      "---\n",
      "<h2 class=\"section-title\">商品一覧</h2>\n",
      "<h2 class=\"section-title\">最新ニュース</h2>\n",
      "<h2 class=\"section-title\">商品一覧</h2>\n",
      "<h2 class=\"section-title\">最新ニュース</h2>\n",
      "<p class=\"item\" data-price=\"1200\">りんご</p>\n",
      "<p class=\"item\" data-price=\"800\">みかん</p>\n",
      "<p class=\"item\" data-price=\"1500\">ぶどう</p>\n",
      "<p class=\"item\" data-price=\"1200\">りんご</p>\n",
      "<p class=\"item\" data-price=\"800\">みかん</p>\n",
      "<p class=\"item\" data-price=\"1500\">ぶどう</p>\n"
     ]
    }
   ],
   "source": [
    "# 単一の要素を指定\n",
    "element = driver.find_element(By.TAG_NAME, \"h1\")                # タグを指定\n",
    "print(element.get_attribute(\"outerHTML\"))\n",
    "\n",
    "element = driver.find_element(By.CSS_SELECTOR, \"h1\")            # タグを指定\n",
    "print(element.get_attribute(\"outerHTML\"))\n",
    "\n",
    "element = driver.find_element(By.ID, \"main-title\")              # id を指定\n",
    "print(element.get_attribute(\"outerHTML\"))\n",
    "\n",
    "element = driver.find_element(By.CSS_SELECTOR, \"#main-title\")   # id を指定\n",
    "print(element.get_attribute(\"outerHTML\"))\n",
    "\n",
    "print(\"---\")\n",
    "\n",
    "# 複数の要素を指定\n",
    "elements = driver.find_elements(By.TAG_NAME, \"h2\")              # タグを指定\n",
    "for e in elements:\n",
    "    print(e.get_attribute(\"outerHTML\"))\n",
    "elements = driver.find_elements(By.CSS_SELECTOR, \"h2\")          # タグを指定\n",
    "for e in elements:\n",
    "    print(e.get_attribute(\"outerHTML\"))\n",
    "elements = driver.find_elements(By.CLASS_NAME, \"item\")          # class を指定\n",
    "for e in elements:\n",
    "    print(e.get_attribute(\"outerHTML\"))\n",
    "elements = driver.find_elements(By.CSS_SELECTOR, \".item\")       # class を指定\n",
    "for e in elements:\n",
    "    print(e.get_attribute(\"outerHTML\"))"
   ]
  },
  {
   "cell_type": "code",
   "execution_count": 10,
   "id": "6c46b9ba",
   "metadata": {},
   "outputs": [
    {
     "name": "stdout",
     "output_type": "stream",
     "text": [
      "4\n",
      "スクレイピング練習ページ\n",
      "商品一覧\n",
      "りんご\n",
      "みかん\n",
      "ぶどう\n",
      "最新ニュース\n",
      "AI 技術が進化しています\n",
      "Python 4.0 がリリース予定\n",
      "お問い合わせ: info@example.com\n",
      "---\n",
      "13\n",
      "スクレイピング練習ページ\n",
      "商品一覧\n",
      "りんご\n",
      "みかん\n",
      "ぶどう\n",
      "商品一覧\n",
      "りんご\n",
      "みかん\n",
      "ぶどう\n",
      "最新ニュース\n",
      "AI 技術が進化しています\n",
      "Python 4.0 がリリース予定\n",
      "最新ニュース\n",
      "AI 技術が進化しています\n",
      "Python 4.0 がリリース予定\n",
      "お問い合わせ: info@example.com\n",
      "お問い合わせ: info@example.com\n",
      "info@example.com\n",
      "\n",
      "===\n",
      "\n",
      "4\n",
      "スクレイピング練習ページ\n",
      "商品一覧\n",
      "りんご\n",
      "みかん\n",
      "ぶどう\n",
      "最新ニュース\n",
      "AI 技術が進化しています\n",
      "Python 4.0 がリリース予定\n",
      "お問い合わせ: info@example.com\n",
      "---\n",
      "スクレイピング練習ページ\n",
      "商品一覧\n",
      "りんご\n",
      "みかん\n",
      "ぶどう\n",
      "商品一覧\n",
      "りんご\n",
      "みかん\n",
      "ぶどう\n",
      "最新ニュース\n",
      "AI 技術が進化しています\n",
      "Python 4.0 がリリース予定\n",
      "最新ニュース\n",
      "AI 技術が進化しています\n",
      "Python 4.0 がリリース予定\n",
      "お問い合わせ: info@example.com\n",
      "お問い合わせ: info@example.com\n",
      "info@example.com\n"
     ]
    }
   ],
   "source": [
    "# 子要素の取得\n",
    "children = driver.find_elements(By.CSS_SELECTOR, \"body > *\")    # body > *（直下限定）\n",
    "print(len(children))\n",
    "for e in children:\n",
    "    print(e.text.strip())\n",
    "print(\"---\")\n",
    "children = driver.find_elements(By.CSS_SELECTOR, \"body *\")      # body *（子孫すべて）\n",
    "print(len(children))\n",
    "for e in children:\n",
    "    print(e.text.strip())\n",
    "\n",
    "print()\n",
    "print(\"===\")\n",
    "print()\n",
    "\n",
    "# 子要素の取得\n",
    "body = driver.find_element(By.TAG_NAME, \"body\")\n",
    "children = body.find_elements(By.XPATH, \"./*\")                  # 直下のみ（XPath ./* は “子要素”）\n",
    "print(len(children))\n",
    "for e in children:\n",
    "    print(e.text.strip())\n",
    "print(\"---\")\n",
    "descendants = body.find_elements(By.XPATH, \".//*\")              # 子孫すべて（XPath .//* は “子孫全体”）\n",
    "for e in descendants:\n",
    "    print(e.text.strip())\n"
   ]
  },
  {
   "cell_type": "code",
   "execution_count": 11,
   "id": "01a83bba",
   "metadata": {},
   "outputs": [],
   "source": [
    "driver.close()\n",
    "driver.quit()"
   ]
  }
 ],
 "metadata": {
  "kernelspec": {
   "display_name": "Python 3",
   "language": "python",
   "name": "python3"
  },
  "language_info": {
   "codemirror_mode": {
    "name": "ipython",
    "version": 3
   },
   "file_extension": ".py",
   "mimetype": "text/x-python",
   "name": "python",
   "nbconvert_exporter": "python",
   "pygments_lexer": "ipython3",
   "version": "3.11.9"
  }
 },
 "nbformat": 4,
 "nbformat_minor": 5
}
