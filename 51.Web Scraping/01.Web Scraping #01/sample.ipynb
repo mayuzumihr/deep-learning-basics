{
 "cells": [
  {
   "cell_type": "code",
   "execution_count": 147,
   "id": "9563427c",
   "metadata": {},
   "outputs": [],
   "source": [
    "import requests\n",
    "from bs4 import BeautifulSoup"
   ]
  },
  {
   "cell_type": "code",
   "execution_count": 148,
   "id": "d6c53674",
   "metadata": {},
   "outputs": [],
   "source": [
    "URL = \"http://localhost/index.html\"\n",
    "\n",
    "response = requests.get(URL, timeout=5)\n",
    "response.raise_for_status()          # 4xx/5xx を検知\n",
    "response.encoding = response.apparent_encoding\n",
    "soup = BeautifulSoup(response.text, \"html.parser\")"
   ]
  },
  {
   "cell_type": "code",
   "execution_count": 149,
   "id": "421d297b",
   "metadata": {},
   "outputs": [
    {
     "name": "stdout",
     "output_type": "stream",
     "text": [
      "<h1 class=\"title\" id=\"main-title\">スクレイピング練習ページ</h1>\n",
      "スクレイピング練習ページ\n",
      "スクレイピング練習ページ\n",
      "main-title\n",
      "['title']\n"
     ]
    }
   ],
   "source": [
    "# 属性値やコンテンツの取得\n",
    "element = soup.find(\"h1\")\n",
    "print(element)                      # 要素全体を取得\n",
    "print(element.text)                 # コンテンツをプロパティで取得\n",
    "print(element.get_text())           # コンテンツをメソッドで取得\n",
    "print(element[\"id\"])                # 属性名を指定して属性値を取得\n",
    "print(element[\"class\"])             # 属性名を指定して属性値を取得"
   ]
  },
  {
   "cell_type": "code",
   "execution_count": null,
   "id": "7ca9ccc9",
   "metadata": {},
   "outputs": [
    {
     "name": "stdout",
     "output_type": "stream",
     "text": [
      "<h1 class=\"title\" id=\"main-title\">スクレイピング練習ページ</h1>\n",
      "<h1 class=\"title\" id=\"main-title\">スクレイピング練習ページ</h1>\n",
      "<h1 class=\"title\" id=\"main-title\">スクレイピング練習ページ</h1>\n",
      "<h1 class=\"title\" id=\"main-title\">スクレイピング練習ページ</h1>\n",
      "---\n",
      "<h2 class=\"section-title\">商品一覧</h2>\n",
      "<h2 class=\"section-title\">最新ニュース</h2>\n",
      "<h2 class=\"section-title\">商品一覧</h2>\n",
      "<h2 class=\"section-title\">最新ニュース</h2>\n",
      "<p class=\"item\" data-price=\"1200\">りんご</p>\n",
      "<p class=\"item\" data-price=\"800\">みかん</p>\n",
      "<p class=\"item\" data-price=\"1500\">ぶどう</p>\n",
      "<p class=\"item\" data-price=\"1200\">りんご</p>\n",
      "<p class=\"item\" data-price=\"800\">みかん</p>\n",
      "<p class=\"item\" data-price=\"1500\">ぶどう</p>\n"
     ]
    }
   ],
   "source": [
    "# 単一の要素を指定\n",
    "element = soup.find(\"h1\")                   # タグを指定\n",
    "print(element)\n",
    "element = soup.select_one(\"h1\")             # タグを指定\n",
    "print(element)\n",
    "element = soup.find(id=\"main-title\")        # id を指定\n",
    "print(element)\n",
    "element = soup.select_one(\"#main-title\")    # id を指定\n",
    "print(element)\n",
    "\n",
    "print(\"---\")\n",
    "\n",
    "# 複数の要素を指定\n",
    "elements = soup.find_all(\"h2\")              # タグを指定\n",
    "for e in elements:\n",
    "    print(e)\n",
    "elements = soup.select(\"h2\")                # タグを指定\n",
    "for e in elements:\n",
    "    print(e)\n",
    "elements = soup.find_all(class_=\"item\")     # class を指定\n",
    "for e in elements:\n",
    "    print(e)\n",
    "elements = soup.select(\".item\")             # class を指定\n",
    "for e in elements:\n",
    "    print(e)"
   ]
  },
  {
   "cell_type": "code",
   "execution_count": null,
   "id": "3357addc",
   "metadata": {},
   "outputs": [
    {
     "name": "stdout",
     "output_type": "stream",
     "text": [
      "4\n",
      "スクレイピング練習ページ\n",
      "商品一覧りんごみかんぶどう\n",
      "最新ニュースAI 技術が進化していますPython 4.0 がリリース予定\n",
      "お問い合わせ:info@example.com\n",
      "---\n",
      "13\n",
      "スクレイピング練習ページ\n",
      "商品一覧りんごみかんぶどう\n",
      "商品一覧\n",
      "りんご\n",
      "みかん\n",
      "ぶどう\n",
      "最新ニュースAI 技術が進化していますPython 4.0 がリリース予定\n",
      "最新ニュース\n",
      "AI 技術が進化しています\n",
      "Python 4.0 がリリース予定\n",
      "お問い合わせ:info@example.com\n",
      "お問い合わせ:info@example.com\n",
      "info@example.com\n",
      "\n",
      "===\n",
      "\n",
      "4\n",
      "スクレイピング練習ページ\n",
      "商品一覧りんごみかんぶどう\n",
      "最新ニュースAI 技術が進化していますPython 4.0 がリリース予定\n",
      "お問い合わせ:info@example.com\n",
      "---\n",
      "スクレイピング練習ページ\n",
      "商品一覧りんごみかんぶどう\n",
      "商品一覧\n",
      "りんご\n",
      "みかん\n",
      "ぶどう\n",
      "最新ニュースAI 技術が進化していますPython 4.0 がリリース予定\n",
      "最新ニュース\n",
      "AI 技術が進化しています\n",
      "Python 4.0 がリリース予定\n",
      "お問い合わせ:info@example.com\n",
      "お問い合わせ:info@example.com\n",
      "info@example.com\n"
     ]
    }
   ],
   "source": [
    "# 子要素の取得\n",
    "children = soup.select(\"body > *\")                      # 「> *」は直下限定\n",
    "print(len(children))\n",
    "for e in children:\n",
    "    print(e.get_text(strip=True))\n",
    "print(\"---\")\n",
    "children = soup.select(\"body *\")                        # 「*」は子孫すべて\n",
    "print(len(children))\n",
    "for e in children:\n",
    "    print(e.get_text(strip=True))\n",
    "\n",
    "print()\n",
    "print(\"===\")\n",
    "print()\n",
    "\n",
    "# 子要素の取得\n",
    "elements = soup.find(\"body\")\n",
    "children = elements.find_all(recursive=False)           # 再帰検索なし（直下限定）\n",
    "print(len(children))\n",
    "for e in children:\n",
    "    print(e.get_text(strip=True))\n",
    "print(\"---\")\n",
    "children = elements.find_all()                          # 再帰検索なし（子孫すべて）\n",
    "for e in children:\n",
    "    print(e.get_text(strip=True))\n"
   ]
  }
 ],
 "metadata": {
  "kernelspec": {
   "display_name": "Python 3",
   "language": "python",
   "name": "python3"
  },
  "language_info": {
   "codemirror_mode": {
    "name": "ipython",
    "version": 3
   },
   "file_extension": ".py",
   "mimetype": "text/x-python",
   "name": "python",
   "nbconvert_exporter": "python",
   "pygments_lexer": "ipython3",
   "version": "3.11.9"
  }
 },
 "nbformat": 4,
 "nbformat_minor": 5
}
