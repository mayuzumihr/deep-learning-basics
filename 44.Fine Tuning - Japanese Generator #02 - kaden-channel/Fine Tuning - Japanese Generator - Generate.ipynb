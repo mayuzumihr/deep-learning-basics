{
  "cells": [
    {
      "cell_type": "code",
      "execution_count": 1,
      "metadata": {},
      "outputs": [
        {
          "name": "stderr",
          "output_type": "stream",
          "text": [
            "d:\\Python\\Python-3.10.11\\lib\\site-packages\\tqdm\\auto.py:21: TqdmWarning: IProgress not found. Please update jupyter and ipywidgets. See https://ipywidgets.readthedocs.io/en/stable/user_install.html\n",
            "  from .autonotebook import tqdm as notebook_tqdm\n"
          ]
        }
      ],
      "source": [
        "import torch\n",
        "from transformers import AutoTokenizer, AutoModelForCausalLM\n",
        "\n",
        "torch.cuda.empty_cache()"
      ]
    },
    {
      "cell_type": "code",
      "execution_count": 2,
      "metadata": {},
      "outputs": [
        {
          "name": "stderr",
          "output_type": "stream",
          "text": [
            "You set `add_prefix_space`. The tokenizer needs to be converted from the slow tokenizers\n"
          ]
        },
        {
          "name": "stdout",
          "output_type": "stream",
          "text": [
            "おすすめは、アイホン、スマートフォン、ゲーム機など多数取り揃えている通販サイトで、スマホの購入から充電までをトータルサポートするサービスを提供。 ・お一人様につき2台まで充電可能なスモールタイプでバッテリーも最大150 ahまで増設可能です。(モバイルルーターでは容量不足の場合、新たに増設する場合があります) ■商品のラインナップは「モバイル機器」に掲載の製品から。■ご購入はyone\n",
            "おすすめは、人気のヘアオイル。ヘアカラーが苦手な女子にも、安心して使ってもらえるように、美容雑誌やテレビ、雑誌で話題のコスメを厳選しました。使い心地や香り、デザイン、種類も豊富。おしゃれなのはもちろん、自分好みの香りや色でお肌もキレイになります。毎日使用するもので、自分の髪質や毛質に合わせたケアができるよう、5つのシリーズをご紹介します。 \n",
            "おすすめは、1年中、室内のどこでも使える手軽な防音対策商品2 _ ニュースリリース 1ヶ月に1～2回、家庭内に音を拡散させるタイプの「防音がしたい家庭専用ユニット」を発売している防音を追求する家電メーカー、東芝は、「音にうるさい家庭にぴったりな1台」を2月10日に発売する。価格は9,800円(税込)だ。防水・防塵機能を搭載した「マイクロ\n",
            "おすすめは、oodle  で検索してください。 — アップルの「」 という新着 アプリケーションから起動する無料サービスは「お絵かき」アプリです。お好みのアプリと画像をパソコンでプリントして、お持ち帰りいただけます。「お気に入り」を起動すると、y を使ってお好きな絵や文字を書き込めます、また、オリジナルのイラストレーションが無料で作成できる「クリップボード」もあります\n",
            "おすすめは、iphone 4用、 サムスン ギャラクシー タブレット シリーズ ■ 人気の iphone や apple スマートフォン でipodtouchはos の進化で使い勝手がずいぶん変わってきました。今まではホームボタンや電源ボタンを押すだけで起動していたirobotが、iphone 5用にはtouch idを使っています。しかし、今回 ios 3 にアップデートした touchid という\n",
            "おすすめは、コフレ クリーム ですね。 香りは少し、というところかな?? まだ使っていませんが、 リピートしたいです(^^)\n",
            "おすすめは、こちら! 人気アプリをご紹介します(oip)! はと連携できるアプリ。アプリ内のというボタンをタップしてアプリの使い方を学べます。のアプリアイコンをスワイプするとアプリが起動します。 ▲が連携可能なアプリでに対応しているアプリを探す、対応のに対応したアプリを探します!といったアプリも登場し、スマートフォンの画面をタッチするだけで\n",
            "おすすめは、はてなブログ。 ■関連記事・「-」のブログ記事を読みたい!【話題】・ブログで話題のです!「はたらく魔王さま!」第6話・第7話、ネタバレあり! はは・・【ニュース】10月1日(月)は「おサイフケータイ」が解禁ですね。これは、携帯が普及した今、多くの人にケータイの便利さを知ってもらうチャンスな\n",
            "おすすめは、無印良品の食器、キッチン雑貨・キッチン用品 洗面化粧台 無垢材と 食洗機 i パナソニックから発売する 炊飯器キッチンセット。 テレビ台、食卓、洗髪台などを 用意できるコンパクトなキッチン。使いやすいサイズで、炊き上がりも楽ちん。ihone1の炊く強さを調整することで、使いやすさも変える。食... ●食\n",
            "おすすめは、#beauty #hot pic.twitter.com/g3k3awjkp — インテリジェント・ビークル・プロショップ【デジ通】4の魅力を余すところなくお届け!【特集】家電やテレビの買取を依頼できるショップ「eporter」。では、に登録していない家電でもで買い取りをしてくれるサービスがある。そのサービスとは、人気の\n"
          ]
        }
      ],
      "source": [
        "model_path = \"./model\"\n",
        "\n",
        "tokenizer = AutoTokenizer.from_pretrained(model_path)\n",
        "model = AutoModelForCausalLM.from_pretrained(model_path)\n",
        "\n",
        "prompt = \"おすすめは、\"\n",
        "inputs = tokenizer(prompt, return_tensors=\"pt\", padding=True)\n",
        "\n",
        "output = model.generate(\n",
        "  input_ids = inputs['input_ids'],\n",
        "  attention_mask = inputs['attention_mask'],\n",
        "  max_length = 100,                       # 生成する文章の最大長を指定\n",
        "  num_return_sequences = 10,              # 生成する文の数\n",
        "  no_repeat_ngram_size = 2,               # n-gramの繰り返しを避ける\n",
        "  top_k = 50,                             # 上位k個の単語からランダムに選ぶ\n",
        "  top_p = 0.95,                           # 上位確率pの単語からランダムに選ぶ\n",
        "  temperature = 0.95,                     # ランダム性の制御\n",
        "  do_sample = True,                       # サンプリングを有効にする\n",
        "  pad_token_id = tokenizer.eos_token_id   # モデルが生成を終了できるようにする\n",
        ")\n",
        "\n",
        "for generated_text in output:\n",
        "  print(tokenizer.decode(generated_text, skip_special_tokens=True))"
      ]
    }
  ],
  "metadata": {
    "accelerator": "GPU",
    "colab": {
      "provenance": []
    },
    "kernelspec": {
      "display_name": "Python 3",
      "name": "python3"
    },
    "language_info": {
      "codemirror_mode": {
        "name": "ipython",
        "version": 3
      },
      "file_extension": ".py",
      "mimetype": "text/x-python",
      "name": "python",
      "nbconvert_exporter": "python",
      "pygments_lexer": "ipython3",
      "version": "3.10.11"
    }
  },
  "nbformat": 4,
  "nbformat_minor": 0
}
