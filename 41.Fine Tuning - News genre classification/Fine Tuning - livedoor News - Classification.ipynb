{
  "cells": [
    {
      "cell_type": "code",
      "execution_count": 1,
      "metadata": {},
      "outputs": [
        {
          "name": "stderr",
          "output_type": "stream",
          "text": [
            "d:\\Python\\Python-3.10.11\\lib\\site-packages\\tqdm\\auto.py:21: TqdmWarning: IProgress not found. Please update jupyter and ipywidgets. See https://ipywidgets.readthedocs.io/en/stable/user_install.html\n",
            "  from .autonotebook import tqdm as notebook_tqdm\n"
          ]
        }
      ],
      "source": [
        "import torch\n",
        "import pickle\n",
        "from transformers import BertJapaneseTokenizer, BertForSequenceClassification"
      ]
    },
    {
      "cell_type": "code",
      "execution_count": 2,
      "metadata": {},
      "outputs": [
        {
          "name": "stdout",
          "output_type": "stream",
          "text": [
            "result: sports-watch\n"
          ]
        },
        {
          "name": "stderr",
          "output_type": "stream",
          "text": [
            "d:\\Python\\Python-3.10.11\\lib\\site-packages\\transformers\\models\\bert\\modeling_bert.py:439: UserWarning: 1Torch was not compiled with flash attention. (Triggered internally at ..\\aten\\src\\ATen\\native\\transformers\\cuda\\sdp_utils.cpp:455.)\n",
            "  attn_output = torch.nn.functional.scaled_dot_product_attention(\n"
          ]
        }
      ],
      "source": [
        "# ---------------------------------------------------------\n",
        "# ジャンルの予測\n",
        "# ---------------------------------------------------------\n",
        "model_path = \"./model\"\n",
        "\n",
        "loaded_model = BertForSequenceClassification.from_pretrained(model_path)\n",
        "loaded_tokenizer = BertJapaneseTokenizer.from_pretrained(model_path)\n",
        "\n",
        "device = torch.device(\"cuda\" if torch.cuda.is_available() else \"cpu\")\n",
        "loaded_model.to(device)\n",
        "\n",
        "new_article = \"\"\"\n",
        "【MLB】ドジャース 6ー4 オリオールズ（日本時間29日・ロサンゼルス）\n",
        "ドジャース・大谷翔平投手は28日（日本時間29日）、本拠地・オリオールズ戦に「1番・指名打者」で出場し、先頭打者弾となる42号ソロを放つなど、4打数2安打1打点。2盗塁もマークし、史上2人目の「42本塁打-42盗塁」に到達。自らのボブルヘッドデーで躍動し、チームは6-4で勝利した。\n",
        "【実際の投稿】始球式を終えたデコピンが「何見てんのよ！」　大谷翔平が公開した愛犬の“独特表情”　この日、先着4万人に大谷と愛犬デコピンがデザインされたボブルヘッドが配布された。試合前には球場に長蛇の列ができ、5万3290人を記録。今季16回目の完売だった。試合前にはデコピンが始球式に登場。\n",
        "マウンドからボールを口に咥え、ホームベース後方の大谷へ元へ一直線。見事な“ストライク投球”に球場は大歓声に包まれた。\n",
        "デコピンの始球式が終わると、初回先頭の第1打席で早速アーチをかけた。右腕コービン・バーンズがカウント1-2から投じた87.4マイル（約141キロ）のスライダーに体勢を崩されながら右翼席へ。今季4本目、通算10本目の先頭打者弾でシーズン51発ペースに乗せた。\n",
        "さらに3回には右前打を放ち二盗を成功。5回無死一塁の第3打席は一ゴロで一塁に残ると、二盗を決めるとともに投手の暴投で三進。ギャビン・ラックス内野手の遊ゴロ失の間に生還した。この日3得点を挙げ、2021年の103得点を超え、キャリアハイの104得点となった。\n",
        "1本塁打、2盗塁で1998年にアレックス・ロドリゲス（マリナーズ）が記録した「42本塁打＆46盗塁」以来となる42-42に到達した。43-43なら史上初の快挙。また、史上初の50-50も射程圏内となっている。\n",
        "試合はドジャースが2点を追う3回にテオスカー・ヘルナンデス外野手の3ランで逆転。2021年のサイ・ヤング賞右腕バーンズから6得点を奪い勝利。カード1勝1敗とした。\n",
        "\"\"\"\n",
        "\n",
        "max_length = 512\n",
        "inputs = loaded_tokenizer(new_article, return_tensors=\"pt\", max_length=max_length, truncation=True, padding=\"max_length\")\n",
        "inputs = {k: v.to(device) for k, v in inputs.items()}\n",
        "\n",
        "loaded_model.eval()\n",
        "with torch.no_grad():\n",
        "  outputs = loaded_model(**inputs)\n",
        "\n",
        "pred = outputs.logits.argmax(-1)\n",
        "\n",
        "with open(\"./label.pkl\", \"rb\") as f:\n",
        "  dir_list = pickle.load(f)\n",
        "\n",
        "print(\"result:\", dir_list[pred.item()])"
      ]
    }
  ],
  "metadata": {
    "accelerator": "GPU",
    "colab": {
      "provenance": []
    },
    "kernelspec": {
      "display_name": "Python 3",
      "name": "python3"
    },
    "language_info": {
      "codemirror_mode": {
        "name": "ipython",
        "version": 3
      },
      "file_extension": ".py",
      "mimetype": "text/x-python",
      "name": "python",
      "nbconvert_exporter": "python",
      "pygments_lexer": "ipython3",
      "version": "3.10.11"
    }
  },
  "nbformat": 4,
  "nbformat_minor": 0
}
