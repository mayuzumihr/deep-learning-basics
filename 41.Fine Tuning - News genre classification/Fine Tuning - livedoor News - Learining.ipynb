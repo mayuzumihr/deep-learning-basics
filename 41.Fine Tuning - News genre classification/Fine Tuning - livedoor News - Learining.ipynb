{
  "cells": [
    {
      "cell_type": "code",
      "execution_count": 1,
      "metadata": {},
      "outputs": [
        {
          "name": "stderr",
          "output_type": "stream",
          "text": [
            "d:\\Python\\Python-3.10.11\\lib\\site-packages\\tqdm\\auto.py:21: TqdmWarning: IProgress not found. Please update jupyter and ipywidgets. See https://ipywidgets.readthedocs.io/en/stable/user_install.html\n",
            "  from .autonotebook import tqdm as notebook_tqdm\n"
          ]
        }
      ],
      "source": [
        "import os\n",
        "import glob\n",
        "import pickle\n",
        "import pandas as pd\n",
        "from sklearn.model_selection import train_test_split\n",
        "from sklearn.metrics import accuracy_score\n",
        "from transformers import BertJapaneseTokenizer, BertForSequenceClassification, TrainingArguments, Trainer, DataCollatorWithPadding\n",
        "from datasets import Dataset"
      ]
    },
    {
      "cell_type": "code",
      "execution_count": 2,
      "metadata": {},
      "outputs": [
        {
          "name": "stdout",
          "output_type": "stream",
          "text": [
            "['dokujo-tsushin', 'it-life-hack', 'kaden-channel', 'livedoor-homme', 'movie-enter', 'peachy', 'smax', 'sports-watch', 'topic-news']\n",
            "dir_count = 9\n",
            "file_count = 900\n"
          ]
        }
      ],
      "source": [
        "# ---------------------------------------------------------\n",
        "# データの読み込み\n",
        "# ---------------------------------------------------------\n",
        "def load_corpus(corpus_dir):\n",
        "\n",
        "  dir_list = []\n",
        "  news_data = []\n",
        "  dir_count = 0\n",
        "  file_count = 0\n",
        "  read_count = 0\n",
        "\n",
        "  for f in os.listdir(path=corpus_dir):\n",
        "    if os.path.isdir(os.path.join(corpus_dir, f)):\n",
        "      dir_list.append(f)\n",
        "\n",
        "  for i in range(len(dir_list)):\n",
        "\n",
        "    if os.path.isdir(os.path.join(corpus_dir, dir_list[i])):\n",
        "      read_count = 0\n",
        "      for file_path in glob.glob(os.path.join(corpus_dir, dir_list[i], \"*.txt\")):\n",
        "        if os.path.basename(file_path) != \"LICENSE.txt\":\n",
        "          with open(file_path, \"r\", encoding=\"utf-8\") as f:\n",
        "            content = f.read().splitlines()[2:]       # 最初の 2 行はメタデータなのでスキップ\n",
        "            text = \"\".join(content)\n",
        "            text = text.translate(str.maketrans({\"\\n\":\"\", \"\\r\":\"\", \"\\t\":\"\", \"\\u3000\":\"\"}))\n",
        "            news_data.append([text, i])\n",
        "            if (read_count >= 100):       # ディレクトリー当たりの読み込む最大ファイル数\n",
        "              break\n",
        "            read_count = read_count + 1\n",
        "          file_count = file_count + 1\n",
        "      dir_count = dir_count + 1\n",
        "\n",
        "  print(dir_list)\n",
        "  print(f\"dir_count = {dir_count}\")\n",
        "  print(f\"file_count = {file_count}\")\n",
        "\n",
        "  with open(\"./label.pkl\", \"wb\") as f: \n",
        "    pickle.dump(dir_list, f)\n",
        "\n",
        "  return news_data\n",
        "\n",
        "news_data = load_corpus('./text')\n",
        "\n",
        "train_data, eval_data = train_test_split(news_data, shuffle=True)\n",
        "train_data = pd.DataFrame(train_data, columns=[\"text\", \"label\"])\n",
        "eval_data = pd.DataFrame(eval_data, columns=[\"text\", \"label\"])"
      ]
    },
    {
      "cell_type": "code",
      "execution_count": 3,
      "metadata": {},
      "outputs": [],
      "source": [
        "# ---------------------------------------------------------\n",
        "# データの保存\n",
        "# ---------------------------------------------------------\n",
        "csv_path = \"./csv\"\n",
        "\n",
        "if not os.path.exists(csv_path):\n",
        "  os.makedirs(csv_path)\n",
        "\n",
        "train_data.to_csv(os.path.join(csv_path, \"train_data.csv\"), index=False, encoding='utf-8')\n",
        "eval_data.to_csv(os.path.join(csv_path, \"eval_data.csv\"), index=False, encoding='utf-8')"
      ]
    },
    {
      "cell_type": "code",
      "execution_count": 4,
      "metadata": {},
      "outputs": [
        {
          "name": "stderr",
          "output_type": "stream",
          "text": [
            "d:\\Python\\Python-3.10.11\\lib\\site-packages\\huggingface_hub\\file_download.py:159: UserWarning: `huggingface_hub` cache-system uses symlinks by default to efficiently store duplicated files but your machine does not support them in C:\\Users\\MayuzumiH\\.cache\\huggingface\\hub\\models--tohoku-nlp--bert-base-japanese. Caching files will still work but in a degraded version that might require more space on your disk. This warning can be disabled by setting the `HF_HUB_DISABLE_SYMLINKS_WARNING` environment variable. For more details, see https://huggingface.co/docs/huggingface_hub/how-to-cache#limitations.\n",
            "To support symlinks on Windows, you either need to activate Developer Mode or to run Python as an administrator. In order to see activate developer mode, see this article: https://docs.microsoft.com/en-us/windows/apps/get-started/enable-your-device-for-development\n",
            "  warnings.warn(message)\n",
            "d:\\Python\\Python-3.10.11\\lib\\site-packages\\transformers\\tokenization_utils_base.py:1601: FutureWarning: `clean_up_tokenization_spaces` was not set. It will be set to `True` by default. This behavior will be depracted in transformers v4.45, and will be then set to `False` by default. For more details check this issue: https://github.com/huggingface/transformers/issues/31884\n",
            "  warnings.warn(\n",
            "Parameter 'function'=<function tokenize at 0x000002D66C17BAC0> of the transform datasets.arrow_dataset.Dataset._map_single couldn't be hashed properly, a random hash was used instead. Make sure your transforms and parameters are serializable with pickle or dill for the dataset fingerprinting and caching to work. If you reuse this transform, the caching mechanism will consider it to be different from the previous calls and recompute everything. This warning is only showed once. Subsequent hashing failures won't be showed.\n",
            "Map: 100%|██████████| 681/681 [00:03<00:00, 210.74 examples/s]\n",
            "Map: 100%|██████████| 228/228 [00:01<00:00, 210.04 examples/s]\n"
          ]
        }
      ],
      "source": [
        "# ---------------------------------------------------------\n",
        "# トークナイズ\n",
        "# ---------------------------------------------------------\n",
        "def tokenize(batch):\n",
        "  return tokenizer(batch[\"text\"], padding=True, truncation=True, max_length=512)\n",
        "\n",
        "tokenizer = BertJapaneseTokenizer.from_pretrained(\"tohoku-nlp/bert-base-japanese\")\n",
        "# tokenizer = BertJapaneseTokenizer.from_pretrained(\"cl-tohoku/bert-base-japanese\")\n",
        "\n",
        "train_dataset = Dataset.from_pandas(train_data)\n",
        "eval_dataset = Dataset.from_pandas(eval_data)\n",
        "\n",
        "train_dataset = train_dataset.map(tokenize, batched=True)\n",
        "eval_dataset = eval_dataset.map(tokenize, batched=True)\n",
        "\n",
        "train_dataset.set_format(type='torch', columns=['input_ids', 'attention_mask', 'label'])\n",
        "eval_dataset.set_format(type='torch', columns=['input_ids', 'attention_mask', 'label'])"
      ]
    },
    {
      "cell_type": "code",
      "execution_count": 5,
      "metadata": {},
      "outputs": [
        {
          "name": "stderr",
          "output_type": "stream",
          "text": [
            "Some weights of BertForSequenceClassification were not initialized from the model checkpoint at tohoku-nlp/bert-base-japanese and are newly initialized: ['classifier.bias', 'classifier.weight']\n",
            "You should probably TRAIN this model on a down-stream task to be able to use it for predictions and inference.\n",
            "  0%|          | 0/172 [00:00<?, ?it/s]d:\\Python\\Python-3.10.11\\lib\\site-packages\\transformers\\models\\bert\\modeling_bert.py:439: UserWarning: 1Torch was not compiled with flash attention. (Triggered internally at ..\\aten\\src\\ATen\\native\\transformers\\cuda\\sdp_utils.cpp:455.)\n",
            "  attn_output = torch.nn.functional.scaled_dot_product_attention(\n",
            "  2%|▏         | 3/172 [00:15<17:08,  6.09s/it]"
          ]
        },
        {
          "ename": "KeyboardInterrupt",
          "evalue": "",
          "output_type": "error",
          "traceback": [
            "\u001b[1;31m---------------------------------------------------------------------------\u001b[0m",
            "\u001b[1;31mKeyboardInterrupt\u001b[0m                         Traceback (most recent call last)",
            "Cell \u001b[1;32mIn[5], line 37\u001b[0m\n\u001b[0;32m     16\u001b[0m training_args \u001b[38;5;241m=\u001b[39m TrainingArguments(\n\u001b[0;32m     17\u001b[0m   output_dir \u001b[38;5;241m=\u001b[39m \u001b[38;5;124m\"\u001b[39m\u001b[38;5;124m./results\u001b[39m\u001b[38;5;124m\"\u001b[39m,               \u001b[38;5;66;03m# 結果を格納するディレクトリー\u001b[39;00m\n\u001b[0;32m     18\u001b[0m   logging_dir \u001b[38;5;241m=\u001b[39m \u001b[38;5;124m\"\u001b[39m\u001b[38;5;124m./logs\u001b[39m\u001b[38;5;124m\"\u001b[39m,                 \u001b[38;5;66;03m# 途中経過のログを格納するディレクトリー\u001b[39;00m\n\u001b[1;32m   (...)\u001b[0m\n\u001b[0;32m     25\u001b[0m   save_safetensors \u001b[38;5;241m=\u001b[39m \u001b[38;5;28;01mFalse\u001b[39;00m                \u001b[38;5;66;03m# safetensorsの使用を無効化\u001b[39;00m\n\u001b[0;32m     26\u001b[0m )\n\u001b[0;32m     28\u001b[0m trainer \u001b[38;5;241m=\u001b[39m Trainer(\n\u001b[0;32m     29\u001b[0m   model \u001b[38;5;241m=\u001b[39m model,                          \u001b[38;5;66;03m# 使用するモデルを指定\u001b[39;00m\n\u001b[0;32m     30\u001b[0m   args \u001b[38;5;241m=\u001b[39m training_args,                   \u001b[38;5;66;03m# TrainingArgumentsの設定\u001b[39;00m\n\u001b[1;32m   (...)\u001b[0m\n\u001b[0;32m     34\u001b[0m   data_collator \u001b[38;5;241m=\u001b[39m data_collator           \u001b[38;5;66;03m# データコレーターを設定\u001b[39;00m\n\u001b[0;32m     35\u001b[0m )\n\u001b[1;32m---> 37\u001b[0m \u001b[43mtrainer\u001b[49m\u001b[38;5;241;43m.\u001b[39;49m\u001b[43mtrain\u001b[49m\u001b[43m(\u001b[49m\u001b[43m)\u001b[49m\n\u001b[0;32m     38\u001b[0m trainer\u001b[38;5;241m.\u001b[39mevaluate()\n",
            "File \u001b[1;32md:\\Python\\Python-3.10.11\\lib\\site-packages\\transformers\\trainer.py:1938\u001b[0m, in \u001b[0;36mTrainer.train\u001b[1;34m(self, resume_from_checkpoint, trial, ignore_keys_for_eval, **kwargs)\u001b[0m\n\u001b[0;32m   1936\u001b[0m         hf_hub_utils\u001b[38;5;241m.\u001b[39menable_progress_bars()\n\u001b[0;32m   1937\u001b[0m \u001b[38;5;28;01melse\u001b[39;00m:\n\u001b[1;32m-> 1938\u001b[0m     \u001b[38;5;28;01mreturn\u001b[39;00m \u001b[43minner_training_loop\u001b[49m\u001b[43m(\u001b[49m\n\u001b[0;32m   1939\u001b[0m \u001b[43m        \u001b[49m\u001b[43margs\u001b[49m\u001b[38;5;241;43m=\u001b[39;49m\u001b[43margs\u001b[49m\u001b[43m,\u001b[49m\n\u001b[0;32m   1940\u001b[0m \u001b[43m        \u001b[49m\u001b[43mresume_from_checkpoint\u001b[49m\u001b[38;5;241;43m=\u001b[39;49m\u001b[43mresume_from_checkpoint\u001b[49m\u001b[43m,\u001b[49m\n\u001b[0;32m   1941\u001b[0m \u001b[43m        \u001b[49m\u001b[43mtrial\u001b[49m\u001b[38;5;241;43m=\u001b[39;49m\u001b[43mtrial\u001b[49m\u001b[43m,\u001b[49m\n\u001b[0;32m   1942\u001b[0m \u001b[43m        \u001b[49m\u001b[43mignore_keys_for_eval\u001b[49m\u001b[38;5;241;43m=\u001b[39;49m\u001b[43mignore_keys_for_eval\u001b[49m\u001b[43m,\u001b[49m\n\u001b[0;32m   1943\u001b[0m \u001b[43m    \u001b[49m\u001b[43m)\u001b[49m\n",
            "File \u001b[1;32md:\\Python\\Python-3.10.11\\lib\\site-packages\\transformers\\trainer.py:2284\u001b[0m, in \u001b[0;36mTrainer._inner_training_loop\u001b[1;34m(self, batch_size, args, resume_from_checkpoint, trial, ignore_keys_for_eval)\u001b[0m\n\u001b[0;32m   2278\u001b[0m \u001b[38;5;28;01mwith\u001b[39;00m \u001b[38;5;28mself\u001b[39m\u001b[38;5;241m.\u001b[39maccelerator\u001b[38;5;241m.\u001b[39maccumulate(model):\n\u001b[0;32m   2279\u001b[0m     tr_loss_step \u001b[38;5;241m=\u001b[39m \u001b[38;5;28mself\u001b[39m\u001b[38;5;241m.\u001b[39mtraining_step(model, inputs)\n\u001b[0;32m   2281\u001b[0m \u001b[38;5;28;01mif\u001b[39;00m (\n\u001b[0;32m   2282\u001b[0m     args\u001b[38;5;241m.\u001b[39mlogging_nan_inf_filter\n\u001b[0;32m   2283\u001b[0m     \u001b[38;5;129;01mand\u001b[39;00m \u001b[38;5;129;01mnot\u001b[39;00m is_torch_xla_available()\n\u001b[1;32m-> 2284\u001b[0m     \u001b[38;5;129;01mand\u001b[39;00m (torch\u001b[38;5;241m.\u001b[39misnan(tr_loss_step) \u001b[38;5;129;01mor\u001b[39;00m \u001b[43mtorch\u001b[49m\u001b[38;5;241;43m.\u001b[39;49m\u001b[43misinf\u001b[49m\u001b[43m(\u001b[49m\u001b[43mtr_loss_step\u001b[49m\u001b[43m)\u001b[49m)\n\u001b[0;32m   2285\u001b[0m ):\n\u001b[0;32m   2286\u001b[0m     \u001b[38;5;66;03m# if loss is nan or inf simply add the average of previous logged losses\u001b[39;00m\n\u001b[0;32m   2287\u001b[0m     tr_loss \u001b[38;5;241m+\u001b[39m\u001b[38;5;241m=\u001b[39m tr_loss \u001b[38;5;241m/\u001b[39m (\u001b[38;5;241m1\u001b[39m \u001b[38;5;241m+\u001b[39m \u001b[38;5;28mself\u001b[39m\u001b[38;5;241m.\u001b[39mstate\u001b[38;5;241m.\u001b[39mglobal_step \u001b[38;5;241m-\u001b[39m \u001b[38;5;28mself\u001b[39m\u001b[38;5;241m.\u001b[39m_globalstep_last_logged)\n\u001b[0;32m   2288\u001b[0m \u001b[38;5;28;01melse\u001b[39;00m:\n",
            "\u001b[1;31mKeyboardInterrupt\u001b[0m: "
          ]
        }
      ],
      "source": [
        "# ---------------------------------------------------------\n",
        "# 学習と評価\n",
        "# ---------------------------------------------------------\n",
        "model = BertForSequenceClassification.from_pretrained(\"tohoku-nlp/bert-base-japanese\", num_labels=9)\n",
        "# model = BertForSequenceClassification.from_pretrained(\"cl-tohoku/bert-base-japanese\", num_labels=9)\n",
        "data_collator = DataCollatorWithPadding(tokenizer)\n",
        "\n",
        "def compute_metrics(result):\n",
        "  labels = result.label_ids\n",
        "  preds = result.predictions.argmax(-1)\n",
        "  acc = accuracy_score(labels, preds)\n",
        "  return {\n",
        "    \"accuracy\": acc\n",
        "  }\n",
        "\n",
        "training_args = TrainingArguments(\n",
        "  output_dir = \"./results\",               # 結果を格納するディレクトリー\n",
        "  logging_dir = \"./logs\",                 # 途中経過のログを格納するディレクトリー\n",
        "  num_train_epochs = 2,                   # エポック数\n",
        "  per_device_train_batch_size = 8,        # 訓練時のバッチサイズ\n",
        "  per_device_eval_batch_size = 16,        # 評価時のバッチサイズ\n",
        "  warmup_steps = 500,                     # 学習系数がこのステップ数で徐々に増加\n",
        "  weight_decay = 0.01,                    # 重みの減衰率\n",
        "  eval_strategy = \"steps\",                # 訓練中、一定のステップごとに評価\n",
        "  save_safetensors = False                # safetensorsの使用を無効化\n",
        ")\n",
        "\n",
        "trainer = Trainer(\n",
        "  model = model,                          # 使用するモデルを指定\n",
        "  args = training_args,                   # TrainingArgumentsの設定\n",
        "  compute_metrics = compute_metrics,      # 評価用の関数\n",
        "  train_dataset = train_dataset,          # 訓練用のデータ\n",
        "  eval_dataset = eval_dataset,            # 評価用のデータ\n",
        "  data_collator = data_collator           # データコレーターを設定\n",
        ")\n",
        "\n",
        "trainer.train()\n",
        "trainer.evaluate()"
      ]
    },
    {
      "cell_type": "code",
      "execution_count": 11,
      "metadata": {},
      "outputs": [
        {
          "data": {
            "text/plain": [
              "('./model\\\\tokenizer_config.json',\n",
              " './model\\\\special_tokens_map.json',\n",
              " './model\\\\vocab.txt',\n",
              " './model\\\\added_tokens.json')"
            ]
          },
          "execution_count": 11,
          "metadata": {},
          "output_type": "execute_result"
        }
      ],
      "source": [
        "# ---------------------------------------------------------\n",
        "# モデルの保存\n",
        "# ---------------------------------------------------------\n",
        "model_path = \"./model\"\n",
        "\n",
        "if not os.path.exists(model_path):\n",
        "  os.makedirs(model_path)\n",
        "\n",
        "for param in model.parameters():\n",
        "  param.data = param.data.contiguous()\n",
        "\n",
        "model.save_pretrained(model_path)\n",
        "tokenizer.save_pretrained(model_path)"
      ]
    }
  ],
  "metadata": {
    "accelerator": "GPU",
    "colab": {
      "provenance": []
    },
    "kernelspec": {
      "display_name": "Python 3",
      "name": "python3"
    },
    "language_info": {
      "codemirror_mode": {
        "name": "ipython",
        "version": 3
      },
      "file_extension": ".py",
      "mimetype": "text/x-python",
      "name": "python",
      "nbconvert_exporter": "python",
      "pygments_lexer": "ipython3",
      "version": "3.10.11"
    }
  },
  "nbformat": 4,
  "nbformat_minor": 0
}
