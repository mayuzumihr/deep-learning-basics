{
  "cells": [
    {
      "cell_type": "code",
      "execution_count": 1,
      "metadata": {},
      "outputs": [
        {
          "name": "stderr",
          "output_type": "stream",
          "text": [
            "d:\\Python\\Python-3.10.11\\lib\\site-packages\\tqdm\\auto.py:21: TqdmWarning: IProgress not found. Please update jupyter and ipywidgets. See https://ipywidgets.readthedocs.io/en/stable/user_install.html\n",
            "  from .autonotebook import tqdm as notebook_tqdm\n"
          ]
        }
      ],
      "source": [
        "import torch\n",
        "from transformers import AutoTokenizer, AutoModelForCausalLM\n",
        "\n",
        "torch.cuda.empty_cache()"
      ]
    },
    {
      "cell_type": "code",
      "execution_count": 2,
      "metadata": {},
      "outputs": [
        {
          "name": "stderr",
          "output_type": "stream",
          "text": [
            "You are using the default legacy behaviour of the <class 'transformers.models.t5.tokenization_t5.T5Tokenizer'>. This is expected, and simply means that the `legacy` (previous) behavior will be used so nothing changes for you. If you want to use the new behaviour, set `legacy=False`. This should only be set if you understand what it means, and thoroughly read the reason why this was added as explained in https://github.com/huggingface/transformers/pull/24565\n",
            "d:\\Python\\Python-3.10.11\\lib\\site-packages\\transformers\\tokenization_utils_base.py:1601: FutureWarning: `clean_up_tokenization_spaces` was not set. It will be set to `True` by default. This behavior will be depracted in transformers v4.45, and will be then set to `False` by default. For more details check this issue: https://github.com/huggingface/transformers/issues/31884\n",
            "  warnings.warn(\n"
          ]
        },
        {
          "name": "stdout",
          "output_type": "stream",
          "text": [
            "おすすめは、インターネットの無料通話や、 フリーダイヤルなど複数のサービスがある。 それぞれ、その名前は異なるが、それぞれ通話内容や通話料金が似ているものが多かった。 「電話サービスの比較」では、 「vodafone 通話0円プラン」や「楽天でんわ」などの事業者名などで、vodサービスを「uq」を例に挙げて比較・検討する。 また、サービスによっては、050の電話番号から080への\n",
            "おすすめは、1点目を購入。 楽天ブックスの「まんがタイムきららフォワード」でも、 かなり人気がでたのが影響しているようですが。 「コミックマーケット95」で先行発売になったのですね。 今の所、このマンガは単行本化予定はないそうです。 この漫画も、今月は6冊目になる予定です(詳細は後ほど) 。 また、本の発売も近い。\n",
            "おすすめは、1ヵ月でできる簡単な運動で、 体温の上昇に直結し、脂肪燃焼効果を得ることができるからです。 そのため、短期間で脂肪を燃焼させる方法を探し、ダイエット方法を選択した結果、2か月で12kgもの体重を落としることができました。 筋トレや食事制限は大変でしたが、今では、筋力トレーニングさえ行えば、半年後には、リバウンドすることなく、5kgくらいまで体重を落とせたので大変感謝しています。\n",
            "おすすめは、肌荒れを防いで潤いを与えて、 皮膚炎をしのぐ事です。 化粧水やクリームに保湿成分の入っていない美容液を使用することで、肌に潤きを取り戻す効果があります。 そのため、化粧品の正しい選び方がわからない、という女性が多いのですが、そのような女性でも安心して使うことができます。 ここでは、化粧水の選び方や、使い方についてご紹介します。 お肌のお手入れの化粧水を、どのような美容\n",
            "おすすめは、やんちゃな子供といると、 なかなか思うようにいかないことが、たまにあります。 私も、幼稚園や保育園で... お子さんが産まれ、お子様が元気でいてくれると 嬉しいなぁなんて思ってしまいますよね。 お母様おひとりお一人のお気持ちを尊重し、...\n",
            "おすすめは、1日あたりの最大電力の変動が大きいほど、電気料金が安くなる ということです。 電力自由化を使えば、電力会社を自由に選ぶことができます。電気を買うときは、必ず電力を自由契約することで、 電気の料金に変動がないかをチェックすることができるのです。 このプランも、かなりお得なプランとなっており、通信料や光熱費が別途で かかってしまいますが、1ヶ月に電気代が何円もか\n",
            "おすすめは、手軽で簡単なスマホ副業です。時間がない、お金がない!そんな方のための簡単で稼げる人気の高収入情報を紹介しています。副収入を稼いで、生活を豊かにしませんか? 副草本では簡単に出来るネット副ビジネスと、稼ぐ為のノウハウをご紹介しています!「ネットでお金を稼ぐ」「ネットショップで稼ぎたい」そんな女性がお得に稼げちゃうメールマガジンです! この在\n",
            "おすすめは、どうにか解決しましたが。。おすすめの対処法や対処法は、 どうすれば良いでしょうか?また、どうしたら良いのでしょう... 私に、彼女ができたのはいつ頃だったのでしょうか。 最近は彼女とは... おしとやかな雰囲気の方が好まれる傾向があるかと思います。 おっしゃる通り、男としては...\n",
            "おすすめは、、 ・ リフォーム 費用 相場 の 情報 まとめ 。 ) です。 ここでは、実際に検討しているリノベーションを成功させるために知っておきたい、リベンジのポイントをご紹介します。 実際にリハウスを検討している方は、 「リ... 先日、テレビの特集で、断熱材は「熱対策が大切なのは言うまでもありません」 と、いうことで、当社がおすすめ\n",
            "おすすめは、やめたほうがいいという「食道静脈瘤」 で、血管が詰まって破裂したら、手足の静脈血栓症を発症する可能性があります。 症状としては、... 血流が止まると、肺の中がむくんだり、意識を失うことがあります 。血管の詰まりを解消する効果はありますが、それ以外にも、肝臓に溜まっている 脂肪細胞が血管内を行き渡る際に、その\n"
          ]
        }
      ],
      "source": [
        "tokenizer = AutoTokenizer.from_pretrained('rinna/japanese-gpt2-small')\n",
        "model = AutoModelForCausalLM.from_pretrained('rinna/japanese-gpt2-small')\n",
        "\n",
        "prompt = \"おすすめは、\"\n",
        "inputs = tokenizer(prompt, return_tensors=\"pt\", padding=True)\n",
        "\n",
        "output = model.generate(\n",
        "  input_ids = inputs['input_ids'],\n",
        "  attention_mask = inputs['attention_mask'],\n",
        "  max_length = 100,                       # 生成する文章の最大長を指定\n",
        "  num_return_sequences = 10,              # 生成する文の数\n",
        "  no_repeat_ngram_size = 2,               # n-gramの繰り返しを避ける\n",
        "  top_k = 50,                             # 上位k個の単語からランダムに選ぶ\n",
        "  top_p = 0.95,                           # 上位確率pの単語からランダムに選ぶ\n",
        "  temperature = 0.95,                     # ランダム性の制御\n",
        "  do_sample = True,                       # サンプリングを有効にする\n",
        "  pad_token_id = tokenizer.eos_token_id   # pad_token_idをeos_token_idに設定\n",
        ")\n",
        "\n",
        "for generated_text in output:\n",
        "  print(tokenizer.decode(generated_text, skip_special_tokens=True))"
      ]
    }
  ],
  "metadata": {
    "accelerator": "GPU",
    "colab": {
      "provenance": []
    },
    "kernelspec": {
      "display_name": "Python 3",
      "name": "python3"
    },
    "language_info": {
      "codemirror_mode": {
        "name": "ipython",
        "version": 3
      },
      "file_extension": ".py",
      "mimetype": "text/x-python",
      "name": "python",
      "nbconvert_exporter": "python",
      "pygments_lexer": "ipython3",
      "version": "3.10.11"
    }
  },
  "nbformat": 4,
  "nbformat_minor": 0
}
