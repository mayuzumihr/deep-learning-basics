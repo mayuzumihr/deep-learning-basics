{
 "cells": [
  {
   "cell_type": "code",
   "execution_count": 1,
   "id": "74494ad0",
   "metadata": {},
   "outputs": [],
   "source": [
    "import MeCab\n",
    "import re\n",
    "from collections import Counter"
   ]
  },
  {
   "cell_type": "code",
   "execution_count": 2,
   "id": "9f0e64ba",
   "metadata": {},
   "outputs": [
    {
     "name": "stdout",
     "output_type": "stream",
     "text": [
      "ジョバンニ: 189\n",
      "カムパネルラ: 101\n",
      "方: 69\n",
      "一: 60\n",
      "みんな: 54\n",
      "人: 54\n",
      "中: 48\n",
      "ほんとう: 45\n",
      "こと: 39\n",
      "窓: 39\n",
      "汽車: 39\n",
      "前: 38\n",
      "いま: 38\n",
      "眼: 37\n",
      "とき: 36\n",
      "川: 31\n",
      "二人: 31\n",
      "水: 29\n",
      "向う: 29\n",
      "青年: 28\n",
      "もの: 27\n",
      "さっき: 27\n",
      "上: 26\n",
      "いっぱい: 26\n",
      "天の川: 26\n",
      "二: 26\n",
      "風: 25\n",
      "女の子: 25\n",
      "銀河: 24\n",
      "野原: 24\n"
     ]
    }
   ],
   "source": [
    "### コンテンツの不要な部分を削除 ###\n",
    "def sanitize(text):\n",
    "  operations = [\n",
    "    lambda text: re.split(r'\\-{5,}', text)[2],\n",
    "    lambda text: re.split(r'底本：', text)[0],\n",
    "    lambda text: re.sub(r'《.+?》', '', text),\n",
    "    lambda text: re.sub(r'［＃.+?］', '', text),\n",
    "    lambda text: text.strip()\n",
    "  ]\n",
    "\n",
    "  for operation in operations:\n",
    "    try:\n",
    "      text = operation(text)\n",
    "    except Exception as e:\n",
    "      print(f\"Error executing {operation.__name__}: {e}\")\n",
    "\n",
    "  return text\n",
    "\n",
    "### ファイルの読み込み ###\n",
    "with open('./gingatetsudono_yoru.txt', 'r', encoding='shift-jis') as file:\n",
    "  text = sanitize(file.read())\n",
    "\n",
    "### MeCab による形態素解析 ###\n",
    "tagger = MeCab.Tagger()\n",
    "node = tagger.parseToNode(text)\n",
    "result = []\n",
    "\n",
    "while node is not None:\n",
    "  part = node.feature.split(\",\")[0]\n",
    "  if part in [\"名詞\"]:\n",
    "    result.append(node.surface)\n",
    "  node = node.next\n",
    "\n",
    "### 単語のカウント ###\n",
    "counter = Counter(result)\n",
    "\n",
    "for word, count in counter.most_common(30):\n",
    "  print(f\"{word}: {count}\")"
   ]
  }
 ],
 "metadata": {
  "kernelspec": {
   "display_name": "Python 3",
   "language": "python",
   "name": "python3"
  },
  "language_info": {
   "codemirror_mode": {
    "name": "ipython",
    "version": 3
   },
   "file_extension": ".py",
   "mimetype": "text/x-python",
   "name": "python",
   "nbconvert_exporter": "python",
   "pygments_lexer": "ipython3",
   "version": "3.11.9"
  }
 },
 "nbformat": 4,
 "nbformat_minor": 5
}
