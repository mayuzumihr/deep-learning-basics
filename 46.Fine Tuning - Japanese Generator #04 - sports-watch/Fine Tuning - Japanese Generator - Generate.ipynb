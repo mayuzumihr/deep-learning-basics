{
  "cells": [
    {
      "cell_type": "code",
      "execution_count": 1,
      "metadata": {},
      "outputs": [
        {
          "name": "stderr",
          "output_type": "stream",
          "text": [
            "d:\\Python\\Python-3.10.11\\lib\\site-packages\\tqdm\\auto.py:21: TqdmWarning: IProgress not found. Please update jupyter and ipywidgets. See https://ipywidgets.readthedocs.io/en/stable/user_install.html\n",
            "  from .autonotebook import tqdm as notebook_tqdm\n"
          ]
        }
      ],
      "source": [
        "import torch\n",
        "from transformers import AutoTokenizer, AutoModelForCausalLM\n",
        "\n",
        "torch.cuda.empty_cache()"
      ]
    },
    {
      "cell_type": "code",
      "execution_count": 5,
      "metadata": {},
      "outputs": [
        {
          "name": "stdout",
          "output_type": "stream",
          "text": [
            "今日のおすすめは、コチラ ⇒ コミュニケーター応援プロジェクト!\n",
            "今日のおすすめは、はがき絵ははがれチーズ です。絵が得意な方、はじけたい方はぜひ挑戦してみてください。 絵を描くのが好きなお友達のはてなブログで、 はげ絵を投稿していました。 「はれチーズ」、 「おしゃれでかわいいはたからさん」など、そのお友達からのコメントがとても印象的でしたよ。おもしろいですね。は\n",
            "今日のおすすめは、ラーメン。 久しぶりに、家系ラーメンの店を訪れました。いつもならお店の方が「...\n",
            "今日のおすすめは、.a.!!!...!!・■、今日のスナップ■■1月16日 渋谷駅を始発とする「」号が東京を直撃する? 朝から麻疹が流行していて、東京の空では大変な状況となった。の感染例はまだ確認されていない。昨年の7月にも、に感染した患者が、渋谷駅で電車に乗る際にスマホで撮影する「iphone\n",
            "今日のおすすめは、#tmz  #レッツゴー!#ももクロ\n",
            "今日のおすすめは、# #花咲か山 https://t.co/0x5tnm2g pic.twitter.com/yhhxpz9hyg3\n",
            "今日のおすすめは、-  - 【乃木坂46】今月の「週刊アサヒ芸能」の表紙に登場した生駒里奈、 早くも話題沸騰!? 昨年7月、『週刊文春』では、週刊ポストのアイドル・生駒は、「いま一番興味のいるアイドル」と絶賛された乃木坂48の生駒と、その妹・乃木が“”と呼ばれるビジュアルで、昨年末にデビューしたばかりの齋藤飛鳥も、表紙と巻頭\n",
            "今日のおすすめは、パンが美味しいお店。 パン屋はお花畑にあることが多く、 店内はパンの香りに包まれ、 お花も、見ごろを迎えています。 お店の外観は華やかな印象ですね。 そんな人気店... 続きを読む → 昨年11月にオープンして すぐの 札幌店は 開店してから 3周年を迎えました! ささやかですが、記念すべき4年を振り返る 記念イベントを企画\n",
            "今日のおすすめは、1「第1話」 2 「第3話 」\n",
            "今日のおすすめは、(あんぱん) です。 美味しい料理に舌鼓を打ちながら、 「」が鳴っている様子はいかがですか。 ※画像はイメージです ■お願い こちらの商品は「 和 」の品です ※複数セットご注文の場合はお一人様一個の発送となります。 お客様のご都合による返品・交換はお受けできません。予めご了承下\n"
          ]
        }
      ],
      "source": [
        "model_path = \"./model\"\n",
        "\n",
        "tokenizer = AutoTokenizer.from_pretrained(model_path)\n",
        "model = AutoModelForCausalLM.from_pretrained(model_path)\n",
        "\n",
        "prompt = \"今日のおすすめは、\"\n",
        "inputs = tokenizer(prompt, return_tensors=\"pt\", padding=True)\n",
        "\n",
        "output = model.generate(\n",
        "  input_ids = inputs['input_ids'],\n",
        "  attention_mask = inputs['attention_mask'],\n",
        "  max_length = 100,                       # 生成する文章の最大長を指定\n",
        "  num_return_sequences = 10,              # 生成する文の数\n",
        "  no_repeat_ngram_size = 2,               # n-gramの繰り返しを避ける\n",
        "  top_k = 50,                             # 上位k個の単語からランダムに選ぶ\n",
        "  top_p = 0.95,                           # 上位確率pの単語からランダムに選ぶ\n",
        "  temperature = 0.95,                     # ランダム性の制御\n",
        "  do_sample = True,                       # サンプリングを有効にする\n",
        "  pad_token_id = tokenizer.eos_token_id   # モデルが生成を終了できるようにする\n",
        ")\n",
        "\n",
        "for generated_text in output:\n",
        "  print(tokenizer.decode(generated_text, skip_special_tokens=True))"
      ]
    }
  ],
  "metadata": {
    "accelerator": "GPU",
    "colab": {
      "provenance": []
    },
    "kernelspec": {
      "display_name": "Python 3",
      "name": "python3"
    },
    "language_info": {
      "codemirror_mode": {
        "name": "ipython",
        "version": 3
      },
      "file_extension": ".py",
      "mimetype": "text/x-python",
      "name": "python",
      "nbconvert_exporter": "python",
      "pygments_lexer": "ipython3",
      "version": "3.10.11"
    }
  },
  "nbformat": 4,
  "nbformat_minor": 0
}
