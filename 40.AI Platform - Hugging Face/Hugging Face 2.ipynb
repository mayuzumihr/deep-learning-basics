{
 "cells": [
  {
   "cell_type": "code",
   "execution_count": 7,
   "metadata": {},
   "outputs": [
    {
     "name": "stderr",
     "output_type": "stream",
     "text": [
      "No model was supplied, defaulted to distilbert/distilbert-base-uncased-finetuned-sst-2-english and revision af0f99b (https://huggingface.co/distilbert/distilbert-base-uncased-finetuned-sst-2-english).\n",
      "Using a pipeline without specifying a model name and revision in production is not recommended.\n"
     ]
    },
    {
     "name": "stdout",
     "output_type": "stream",
     "text": [
      "Text: I love this product! It works great.\n",
      "Sentiment: POSITIVE, Confidence: 1.00\n",
      "\n",
      "Text: This is the worst experience I've ever had.\n",
      "Sentiment: NEGATIVE, Confidence: 1.00\n",
      "\n",
      "Text: I'm feeling quite neutral about this.\n",
      "Sentiment: NEGATIVE, Confidence: 1.00\n",
      "\n",
      "Text: It's okay, not great but not bad either.\n",
      "Sentiment: POSITIVE, Confidence: 1.00\n",
      "\n"
     ]
    }
   ],
   "source": [
    "from transformers import pipeline\n",
    "\n",
    "# 感情分析のためのパイプラインを作成\n",
    "classifier = pipeline('sentiment-analysis', model='distilbert/distilbert-base-uncased-finetuned-sst-2-english')\n",
    "\n",
    "# 分析するテキスト\n",
    "texts = [\n",
    "  \"I love this product! It works great.\",\n",
    "  \"This is the worst experience I've ever had.\",\n",
    "  \"I'm feeling quite neutral about this.\",\n",
    "  \"It's okay, not great but not bad either.\"\n",
    "]\n",
    "\n",
    "# 感情分析を実行\n",
    "results = classifier(texts)\n",
    "\n",
    "# 結果を表示\n",
    "for text, result in zip(texts, results):\n",
    "  print(f\"Text: {text}\")\n",
    "  print(f\"Sentiment: {result['label']}, Confidence: {result['score']:.2f}\\n\")"
   ]
  },
  {
   "cell_type": "code",
   "execution_count": 8,
   "metadata": {},
   "outputs": [
    {
     "name": "stderr",
     "output_type": "stream",
     "text": [
      "No model was supplied, defaulted to distilbert/distilbert-base-uncased-finetuned-sst-2-english and revision af0f99b (https://huggingface.co/distilbert/distilbert-base-uncased-finetuned-sst-2-english).\n",
      "Using a pipeline without specifying a model name and revision in production is not recommended.\n"
     ]
    },
    {
     "name": "stdout",
     "output_type": "stream",
     "text": [
      "テキスト: この製品が大好きです！とても使いやすいです。\n",
      "感情: NEGATIVE, 信頼度: 0.95\n",
      "\n",
      "テキスト: これは最悪の体験でした。\n",
      "感情: NEGATIVE, 信頼度: 0.94\n",
      "\n",
      "テキスト: この件に関しては中立的です。\n",
      "感情: NEGATIVE, 信頼度: 0.95\n",
      "\n",
      "テキスト: まあまあですね。特に良くも悪くもないです。\n",
      "感情: NEGATIVE, 信頼度: 0.95\n",
      "\n"
     ]
    }
   ],
   "source": [
    "from transformers import pipeline\n",
    "\n",
    "# 日本語感情分析のためのパイプラインを作成\n",
    "classifier = pipeline('sentiment-analysis', model='kit-nlp/bert-base-japanese-sentiment-irony')\n",
    "\n",
    "# 分析するテキスト\n",
    "texts = [\n",
    "  \"この製品が大好きです！とても使いやすいです。\",\n",
    "  \"これは最悪の体験でした。\",\n",
    "  \"この件に関しては中立的です。\",\n",
    "  \"まあまあですね。特に良くも悪くもないです。\"\n",
    "]\n",
    "\n",
    "# 感情分析を実行\n",
    "results = classifier(texts)\n",
    "\n",
    "# 結果を表示\n",
    "for text, result in zip(texts, results):\n",
    "  print(f\"テキスト: {text}\")\n",
    "  print(f\"感情: {result['label']}, 信頼度: {result['score']:.2f}\\n\")"
   ]
  }
 ],
 "metadata": {
  "kernelspec": {
   "display_name": "Python 3",
   "language": "python",
   "name": "python3"
  },
  "language_info": {
   "codemirror_mode": {
    "name": "ipython",
    "version": 3
   },
   "file_extension": ".py",
   "mimetype": "text/x-python",
   "name": "python",
   "nbconvert_exporter": "python",
   "pygments_lexer": "ipython3",
   "version": "3.8.10"
  }
 },
 "nbformat": 4,
 "nbformat_minor": 2
}
