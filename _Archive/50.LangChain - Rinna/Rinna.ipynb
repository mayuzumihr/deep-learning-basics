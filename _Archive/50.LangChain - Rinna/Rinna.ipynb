{
 "cells": [
  {
   "cell_type": "code",
   "execution_count": null,
   "metadata": {},
   "outputs": [],
   "source": [
    "from langchain.llms import HuggingFaceHub\n",
    "from transformers import AutoTokenizer, AutoModelForCausalLM\n",
    "\n",
    "HUGGINGFACEHUB_API_TOKEN = \"...\"\n",
    "\n",
    "llm = HuggingFaceHub(\n",
    "    repo_id=\"rinna/japanese-gpt2-small\",\n",
    "    huggingfacehub_api_token = HUGGINGFACEHUB_API_TOKEN\n",
    ")\n",
    "\n",
    "prompt = \"こんにちは！\"\n",
    "response = llm(prompt)\n",
    "\n",
    "print(response)"
   ]
  },
  {
   "cell_type": "code",
   "execution_count": null,
   "metadata": {},
   "outputs": [],
   "source": [
    "from langchain.llms import HuggingFaceHub\n",
    "from transformers import AutoTokenizer, AutoModelForCausalLM\n",
    "from transformers import pipeline\n",
    "from langchain.llms import HuggingFacePipeline\n",
    "\n",
    "HUGGINGFACEHUB_API_TOKEN = \"...\"\n",
    "\n",
    "pipe = pipeline\n",
    "\n",
    "llm = HuggingFaceHub(\n",
    "    repo_id=\"rinna/japanese-gpt2-small\",\n",
    "    huggingfacehub_api_token = HUGGINGFACEHUB_API_TOKEN\n",
    ")\n",
    "\n",
    "pipe = pipeline(\n",
    "    'text-generation',\n",
    "    model='rinna/japanese-gpt2-medium',\n",
    "    tokenizer='rinna/japanese-gpt2-medium'\n",
    ")\n",
    "\n",
    "hf = HuggingFacePipeline(\n",
    "    pipeline = pipe\n",
    ")\n",
    "\n",
    "prompt = \"こんにちは！\"\n",
    "response = hf(prompt)\n",
    "\n",
    "print(response)"
   ]
  }
 ],
 "metadata": {
  "kernelspec": {
   "display_name": "Python 3",
   "language": "python",
   "name": "python3"
  },
  "language_info": {
   "codemirror_mode": {
    "name": "ipython",
    "version": 3
   },
   "file_extension": ".py",
   "mimetype": "text/x-python",
   "name": "python",
   "nbconvert_exporter": "python",
   "pygments_lexer": "ipython3",
   "version": "3.10.11"
  }
 },
 "nbformat": 4,
 "nbformat_minor": 2
}
