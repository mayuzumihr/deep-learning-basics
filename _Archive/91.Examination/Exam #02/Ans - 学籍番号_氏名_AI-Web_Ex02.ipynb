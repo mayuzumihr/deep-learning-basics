{
 "cells": [
  {
   "cell_type": "markdown",
   "metadata": {
    "id": "ftlA2ycN-k90"
   },
   "source": [
    "### ■ パーセプトロン\n",
    "\n",
    "AND ゲート、OR ゲート、NAND ゲートの重みとバイアスを報告してください。なお、値は以下の中から選択すること。また、w1 と w2 の値は同じとします。\n",
    "\n",
    "- 重み\n",
    "    - 0.5\n",
    "    - -0.5\n",
    "\n",
    "- バイアス\n",
    "    - 0.25\n",
    "    - 0.75\n",
    "    - -0.25\n",
    "    - -0.75"
   ]
  },
  {
   "cell_type": "code",
   "execution_count": 1,
   "metadata": {
    "id": "yJuSp1SD-k93"
   },
   "outputs": [],
   "source": [
    "import numpy as np"
   ]
  },
  {
   "cell_type": "markdown",
   "metadata": {
    "id": "SMInAeQf-k94"
   },
   "source": [
    "### ■ AND ゲート"
   ]
  },
  {
   "cell_type": "code",
   "execution_count": 2,
   "metadata": {
    "id": "Y7Npq9Rv-k95",
    "outputId": "0e384212-12ab-440a-921d-a12554688cf0"
   },
   "outputs": [
    {
     "name": "stdout",
     "output_type": "stream",
     "text": [
      "AND(0, 0) : 0\n",
      "AND(0, 1) : 0\n",
      "AND(1, 0) : 0\n",
      "AND(1, 1) : 1\n"
     ]
    }
   ],
   "source": [
    "#------------------------------------------------------------------------------\n",
    "# AND Gate\n",
    "#------------------------------------------------------------------------------\n",
    "def _and_(x1, x2):\n",
    "\n",
    "  w1 = 0.5\n",
    "  w2 = 0.5\n",
    "  b = -0.75\n",
    "\n",
    "  ans = (w1 * x1) + (w2 * x2) + b\n",
    "\n",
    "  if ans > 0:\n",
    "    return 1\n",
    "  else:\n",
    "    return 0\n",
    "\n",
    "print(f'AND(0, 0) : {_and_(0, 0)}')\n",
    "print(f'AND(0, 1) : {_and_(0, 1)}')\n",
    "print(f'AND(1, 0) : {_and_(1, 0)}')\n",
    "print(f'AND(1, 1) : {_and_(1, 1)}')"
   ]
  },
  {
   "cell_type": "markdown",
   "metadata": {
    "id": "mwpY3jQE-k96"
   },
   "source": [
    "### ■ OR ゲート"
   ]
  },
  {
   "cell_type": "code",
   "execution_count": 3,
   "metadata": {
    "id": "0VuSbLfe-k97",
    "outputId": "ab085638-2bdf-4524-e38e-2ac866ae6b4f"
   },
   "outputs": [
    {
     "name": "stdout",
     "output_type": "stream",
     "text": [
      "OR(0, 0) : 0\n",
      "OR(0, 1) : 1\n",
      "OR(1, 0) : 1\n",
      "OR(1, 1) : 1\n"
     ]
    }
   ],
   "source": [
    "#------------------------------------------------------------------------------\n",
    "# OR Gate\n",
    "#------------------------------------------------------------------------------\n",
    "def _or_(x1, x2):\n",
    "\n",
    "  w1 = 0.5\n",
    "  w2 = 0.5\n",
    "  b = -0.25\n",
    "\n",
    "  ans = (w1 * x1) + (w2 * x2) + b\n",
    "\n",
    "  if ans > 0:\n",
    "    return 1\n",
    "  else:\n",
    "    return 0\n",
    "\n",
    "print(f'OR(0, 0) : {_or_(0, 0)}')\n",
    "print(f'OR(0, 1) : {_or_(0, 1)}')\n",
    "print(f'OR(1, 0) : {_or_(1, 0)}')\n",
    "print(f'OR(1, 1) : {_or_(1, 1)}')"
   ]
  },
  {
   "cell_type": "markdown",
   "metadata": {
    "id": "PhnhOdF6-k97"
   },
   "source": [
    "### ■ NAND ゲート"
   ]
  },
  {
   "cell_type": "code",
   "execution_count": 4,
   "metadata": {
    "id": "_5ktZYVl-k97",
    "outputId": "b1d45b21-cb46-4f65-e1bc-d3d342479c95"
   },
   "outputs": [
    {
     "name": "stdout",
     "output_type": "stream",
     "text": [
      "NAND(0, 0) : 1\n",
      "NAND(0, 1) : 1\n",
      "NAND(1, 0) : 1\n",
      "NAND(1, 1) : 0\n"
     ]
    }
   ],
   "source": [
    "#------------------------------------------------------------------------------\n",
    "# NAND Gate\n",
    "#------------------------------------------------------------------------------\n",
    "def _nand_(x1, x2):\n",
    "\n",
    "  w1 = -0.5\n",
    "  w2 = -0.5\n",
    "  b = 0.75\n",
    "\n",
    "  ans = (w1 * x1) + (w2 * x2) + b\n",
    "\n",
    "  if ans > 0:\n",
    "    return 1\n",
    "  else:\n",
    "    return 0\n",
    "\n",
    "print(f'NAND(0, 0) : {_nand_(0, 0)}')\n",
    "print(f'NAND(0, 1) : {_nand_(0, 1)}')\n",
    "print(f'NAND(1, 0) : {_nand_(1, 0)}')\n",
    "print(f'NAND(1, 1) : {_nand_(1, 1)}')"
   ]
  },
  {
   "cell_type": "markdown",
   "metadata": {},
   "source": [
    "---"
   ]
  },
  {
   "cell_type": "markdown",
   "metadata": {},
   "source": [
    "上記で作成した AND ゲート、OR ゲート、NAND ゲートを使用して XOR ゲートを作成してください。"
   ]
  },
  {
   "cell_type": "markdown",
   "metadata": {
    "id": "soVNGlbD-k98"
   },
   "source": [
    "### ■ XOR ゲート"
   ]
  },
  {
   "cell_type": "code",
   "execution_count": 5,
   "metadata": {
    "id": "oE0jJv2o-k98",
    "outputId": "e60f8122-ae4a-452a-e9b2-9af1d64ed23c"
   },
   "outputs": [
    {
     "name": "stdout",
     "output_type": "stream",
     "text": [
      "XOR(0, 0) : 0\n",
      "XOR(0, 1) : 1\n",
      "XOR(1, 0) : 1\n",
      "XOR(1, 1) : 0\n"
     ]
    }
   ],
   "source": [
    "#------------------------------------------------------------------------------\n",
    "# XOR Gate\n",
    "#------------------------------------------------------------------------------\n",
    "def _xor_(x1, x2):\n",
    "  return _and_(_nand_(x1, x2), _or_(x1, x2))\n",
    "\n",
    "print(f'XOR(0, 0) : {_xor_(0, 0)}')\n",
    "print(f'XOR(0, 1) : {_xor_(0, 1)}')\n",
    "print(f'XOR(1, 0) : {_xor_(1, 0)}')\n",
    "print(f'XOR(1, 1) : {_xor_(1, 1)}')"
   ]
  }
 ],
 "metadata": {
  "colab": {
   "provenance": []
  },
  "kernelspec": {
   "display_name": "Python 3",
   "language": "python",
   "name": "python3"
  },
  "language_info": {
   "codemirror_mode": {
    "name": "ipython",
    "version": 3
   },
   "file_extension": ".py",
   "mimetype": "text/x-python",
   "name": "python",
   "nbconvert_exporter": "python",
   "pygments_lexer": "ipython3",
   "version": "3.11.9"
  }
 },
 "nbformat": 4,
 "nbformat_minor": 0
}
