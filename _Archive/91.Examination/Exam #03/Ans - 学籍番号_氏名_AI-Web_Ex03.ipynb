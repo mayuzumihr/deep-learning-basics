{
 "cells": [
  {
   "cell_type": "markdown",
   "metadata": {
    "id": "WOY5oXxMx3km"
   },
   "source": [
    "### ■ パーセプトロン\n",
    "\n",
    "- 内積にしてみる\n",
    "- w, x ともに配列として扱う => 要素数がいくつになっても大丈夫なはず"
   ]
  },
  {
   "cell_type": "code",
   "execution_count": 1,
   "metadata": {
    "executionInfo": {
     "elapsed": 11,
     "status": "ok",
     "timestamp": 1714105222083,
     "user": {
      "displayName": "黛宏明",
      "userId": "06950098962292240067"
     },
     "user_tz": -540
    },
    "id": "KecTDp9Mx3kn"
   },
   "outputs": [],
   "source": [
    "import numpy as np\n",
    "import matplotlib.pyplot as plt"
   ]
  },
  {
   "cell_type": "markdown",
   "metadata": {
    "id": "swh-rD05x3ko"
   },
   "source": [
    "### ■ AND ゲート"
   ]
  },
  {
   "cell_type": "code",
   "execution_count": 2,
   "metadata": {
    "colab": {
     "base_uri": "https://localhost:8080/"
    },
    "executionInfo": {
     "elapsed": 10,
     "status": "ok",
     "timestamp": 1714105222083,
     "user": {
      "displayName": "黛宏明",
      "userId": "06950098962292240067"
     },
     "user_tz": -540
    },
    "id": "bdMZnZkax3ko",
    "outputId": "66716f51-40e4-4c84-fa1b-5266bbcb7beb"
   },
   "outputs": [
    {
     "name": "stdout",
     "output_type": "stream",
     "text": [
      "AND(0, 0) : 0\n",
      "AND(0, 1) : 0\n",
      "AND(1, 0) : 0\n",
      "AND(1, 1) : 1\n"
     ]
    }
   ],
   "source": [
    "#------------------------------------------------------------------------------\n",
    "# AND Gate\n",
    "#------------------------------------------------------------------------------\n",
    "def _and_(x1, x2):\n",
    "\n",
    "  x = [x1, x2]\n",
    "  w = [0.5, 0.5]\n",
    "  b = -0.75\n",
    "\n",
    "  ans = np.dot(x, w) + b\n",
    "\n",
    "  if ans > 0:\n",
    "    return 1\n",
    "  else:\n",
    "    return 0\n",
    "\n",
    "print(f'AND(0, 0) : {_and_(0, 0)}')\n",
    "print(f'AND(0, 1) : {_and_(0, 1)}')\n",
    "print(f'AND(1, 0) : {_and_(1, 0)}')\n",
    "print(f'AND(1, 1) : {_and_(1, 1)}')"
   ]
  },
  {
   "cell_type": "markdown",
   "metadata": {
    "id": "8bagB_3bx3kp"
   },
   "source": [
    "### ■ OR ゲート"
   ]
  },
  {
   "cell_type": "code",
   "execution_count": 3,
   "metadata": {
    "colab": {
     "base_uri": "https://localhost:8080/"
    },
    "executionInfo": {
     "elapsed": 8,
     "status": "ok",
     "timestamp": 1714105222084,
     "user": {
      "displayName": "黛宏明",
      "userId": "06950098962292240067"
     },
     "user_tz": -540
    },
    "id": "qsRT5yFfx3kp",
    "outputId": "0a0c4c6d-c9bd-474a-d6ef-c343618ef8c3"
   },
   "outputs": [
    {
     "name": "stdout",
     "output_type": "stream",
     "text": [
      "OR(0, 0) : 0\n",
      "OR(0, 1) : 1\n",
      "OR(1, 0) : 1\n",
      "OR(1, 1) : 1\n"
     ]
    }
   ],
   "source": [
    "#------------------------------------------------------------------------------\n",
    "# OR Gate\n",
    "#------------------------------------------------------------------------------\n",
    "def _or_(x1, x2):\n",
    "\n",
    "  x = [x1, x2]\n",
    "  w = [0.5, 0.5]\n",
    "  b = -0.25\n",
    "\n",
    "  ans = np.dot(x, w) + b\n",
    "\n",
    "  if ans > 0:\n",
    "    return 1\n",
    "  else:\n",
    "    return 0\n",
    "\n",
    "print(f'OR(0, 0) : {_or_(0, 0)}')\n",
    "print(f'OR(0, 1) : {_or_(0, 1)}')\n",
    "print(f'OR(1, 0) : {_or_(1, 0)}')\n",
    "print(f'OR(1, 1) : {_or_(1, 1)}')"
   ]
  },
  {
   "cell_type": "markdown",
   "metadata": {
    "id": "Ayr9Nl_Ax3kq"
   },
   "source": [
    "### ■ NAND ゲート"
   ]
  },
  {
   "cell_type": "code",
   "execution_count": 4,
   "metadata": {
    "colab": {
     "base_uri": "https://localhost:8080/"
    },
    "executionInfo": {
     "elapsed": 7,
     "status": "ok",
     "timestamp": 1714105222084,
     "user": {
      "displayName": "黛宏明",
      "userId": "06950098962292240067"
     },
     "user_tz": -540
    },
    "id": "A6SR3-dDx3kq",
    "outputId": "c2cd3fc8-d121-4c4a-bf0a-dbe90f3e7cc6"
   },
   "outputs": [
    {
     "name": "stdout",
     "output_type": "stream",
     "text": [
      "NAND(0, 0) : 1\n",
      "NAND(0, 1) : 1\n",
      "NAND(1, 0) : 1\n",
      "NAND(1, 1) : 0\n"
     ]
    }
   ],
   "source": [
    "#------------------------------------------------------------------------------\n",
    "# NAND Gate\n",
    "#------------------------------------------------------------------------------\n",
    "def _nand_(x1, x2):\n",
    "\n",
    "  x = [x1, x2]\n",
    "  w = [-0.5, -0.5]\n",
    "  b = 0.75\n",
    "\n",
    "  ans = np.dot(x, w) + b\n",
    "\n",
    "  if ans > 0:\n",
    "    return 1\n",
    "  else:\n",
    "    return 0\n",
    "\n",
    "print(f'NAND(0, 0) : {_nand_(0, 0)}')\n",
    "print(f'NAND(0, 1) : {_nand_(0, 1)}')\n",
    "print(f'NAND(1, 0) : {_nand_(1, 0)}')\n",
    "print(f'NAND(1, 1) : {_nand_(1, 1)}')"
   ]
  },
  {
   "cell_type": "markdown",
   "metadata": {
    "id": "yjrKdVpGx3kq"
   },
   "source": [
    "### ■ XOR ゲート"
   ]
  },
  {
   "cell_type": "code",
   "execution_count": 5,
   "metadata": {
    "colab": {
     "base_uri": "https://localhost:8080/"
    },
    "executionInfo": {
     "elapsed": 6,
     "status": "ok",
     "timestamp": 1714105222084,
     "user": {
      "displayName": "黛宏明",
      "userId": "06950098962292240067"
     },
     "user_tz": -540
    },
    "id": "TdSH2HHjx3kq",
    "outputId": "1c75b770-ff6f-45bb-caca-856174fed17d"
   },
   "outputs": [
    {
     "name": "stdout",
     "output_type": "stream",
     "text": [
      "XOR(0, 0) : 0\n",
      "XOR(0, 1) : 1\n",
      "XOR(1, 0) : 1\n",
      "XOR(1, 1) : 0\n"
     ]
    }
   ],
   "source": [
    "#------------------------------------------------------------------------------\n",
    "# XOR Gate\n",
    "#------------------------------------------------------------------------------\n",
    "def _xor_(x1, x2):\n",
    "  return _and_(_nand_(x1, x2), _or_(x1, x2))\n",
    "\n",
    "print(f'XOR(0, 0) : {_xor_(0, 0)}')\n",
    "print(f'XOR(0, 1) : {_xor_(0, 1)}')\n",
    "print(f'XOR(1, 0) : {_xor_(1, 0)}')\n",
    "print(f'XOR(1, 1) : {_xor_(1, 1)}')"
   ]
  }
 ],
 "metadata": {
  "colab": {
   "provenance": []
  },
  "kernelspec": {
   "display_name": "Python 3",
   "language": "python",
   "name": "python3"
  },
  "language_info": {
   "codemirror_mode": {
    "name": "ipython",
    "version": 3
   },
   "file_extension": ".py",
   "mimetype": "text/x-python",
   "name": "python",
   "nbconvert_exporter": "python",
   "pygments_lexer": "ipython3",
   "version": "3.12.2"
  }
 },
 "nbformat": 4,
 "nbformat_minor": 0
}
