{
 "cells": [
  {
   "cell_type": "code",
   "execution_count": 5,
   "metadata": {},
   "outputs": [],
   "source": [
    "import time\n",
    "import requests\n",
    "import MeCab\n",
    "from bs4 import BeautifulSoup\n",
    "from collections import Counter\n",
    "from gensim.models import Word2Vec"
   ]
  },
  {
   "cell_type": "code",
   "execution_count": 6,
   "metadata": {},
   "outputs": [],
   "source": [
    "url_list = [\n",
    "    \"https://www.uta-net.com/artist/12550/0/1/\", \n",
    "    \"https://www.uta-net.com/artist/12550/0/2/\"\n",
    "]\n",
    "get_text = []\n",
    "\n",
    "for url in url_list:\n",
    "  response = requests.get(url)\n",
    "  time.sleep(1)\n",
    "  soup = BeautifulSoup(response.text, 'html.parser')\n",
    "  elements = soup.find_all('span', class_='d-block d-lg-none utaidashi text-truncate')\n",
    "\n",
    "  for element in elements:\n",
    "    get_text.append(element.get_text(strip=True))\n",
    "\n",
    "with open('./nogizaka46-lyrics.txt', 'w', encoding='utf-8') as file:\n",
    "  for lyrics in get_text:\n",
    "    file.write(lyrics + '\\n')"
   ]
  },
  {
   "cell_type": "code",
   "execution_count": 7,
   "metadata": {},
   "outputs": [
    {
     "name": "stdout",
     "output_type": "stream",
     "text": [
      "こと: 543\n",
      "ない: 539\n",
      "いい: 283\n",
      "WOW: 274\n",
      "今: 247\n",
      "自分: 226\n",
      "そう: 212\n",
      "恋: 194\n",
      "もの: 189\n",
      "oh: 187\n",
      "愛: 184\n",
      "人: 175\n",
      "どう: 148\n",
      "心: 144\n",
      "夢: 144\n",
      "もう: 136\n",
      "Oh: 133\n",
      "一: 124\n",
      "度: 124\n",
      "まま: 117\n",
      "日: 117\n",
      "風: 116\n",
      "ずっと: 108\n",
      "気: 105\n",
      "なぜ: 105\n",
      "世界: 104\n",
      "空: 101\n",
      "きっと: 101\n",
      "時: 100\n",
      "中: 97\n"
     ]
    }
   ],
   "source": [
    "with open('./nogizaka46-lyrics.txt', 'r', encoding='utf-8') as file:\n",
    "  text = file.read()\n",
    "\n",
    "tagger = MeCab.Tagger('-Owakati')\n",
    "node = tagger.parseToNode(text)\n",
    "\n",
    "result = []\n",
    "while node is not None:\n",
    "  part = node.feature.split(\",\")[0]\n",
    "  if part in [\"名詞\", \"副詞\", \"形容詞\"]:\n",
    "    result.append(node.surface)\n",
    "  node = node.next\n",
    "\n",
    "counter = Counter(result)\n",
    "\n",
    "for word, count in counter.most_common(30):\n",
    "  print(f\"{word}: {count}\")"
   ]
  },
  {
   "cell_type": "code",
   "execution_count": 10,
   "metadata": {},
   "outputs": [
    {
     "name": "stdout",
     "output_type": "stream",
     "text": [
      "「人生」に最も近い単語:\n",
      "世界: 0.9262\n",
      "ない: 0.9199\n",
      "こと: 0.9162\n",
      "心: 0.9151\n",
      "愛: 0.9135\n",
      "そう: 0.9133\n",
      "いい: 0.9121\n",
      "人: 0.9119\n",
      "自分: 0.9119\n",
      "夢: 0.9107\n"
     ]
    }
   ],
   "source": [
    "with open('./nogizaka46-lyrics.txt', 'r', encoding='utf-8') as file:\n",
    "  text = file.read()\n",
    "\n",
    "tagger = MeCab.Tagger('-Owakati')\n",
    "node = tagger.parseToNode(text)\n",
    "result = []\n",
    "\n",
    "while node is not None:\n",
    "  part = node.feature.split(\",\")[0]\n",
    "  if part in [\"名詞\", \"副詞\", \"形容詞\"]:\n",
    "    result.append(node.surface)\n",
    "  node = node.next\n",
    "\n",
    "model = Word2Vec([result], vector_size=100, window=5, min_count=1, workers=4)\n",
    "\n",
    "search_word = \"人生\"\n",
    "similar_words = model.wv.most_similar(search_word, topn=10)\n",
    "\n",
    "print(f\"「{search_word}」に最も近い単語:\")\n",
    "for word, similarity in similar_words:\n",
    "  print(f\"{word}: {similarity:.4f}\")"
   ]
  }
 ],
 "metadata": {
  "kernelspec": {
   "display_name": "Python 3",
   "language": "python",
   "name": "python3"
  },
  "language_info": {
   "codemirror_mode": {
    "name": "ipython",
    "version": 3
   },
   "file_extension": ".py",
   "mimetype": "text/x-python",
   "name": "python",
   "nbconvert_exporter": "python",
   "pygments_lexer": "ipython3",
   "version": "3.8.10"
  }
 },
 "nbformat": 4,
 "nbformat_minor": 2
}
