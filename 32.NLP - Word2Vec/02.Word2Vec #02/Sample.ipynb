{
 "cells": [
  {
   "cell_type": "code",
   "execution_count": 1,
   "metadata": {},
   "outputs": [],
   "source": [
    "import MeCab\n",
    "from collections import Counter\n",
    "from gensim.models import Word2Vec"
   ]
  },
  {
   "cell_type": "code",
   "execution_count": 2,
   "id": "f079c506",
   "metadata": {},
   "outputs": [
    {
     "name": "stdout",
     "output_type": "stream",
     "text": [
      "こと: 583\n",
      "ない: 580\n",
      "いい: 301\n",
      "WOW: 274\n",
      "今: 267\n",
      "自分: 243\n",
      "そう: 229\n",
      "恋: 211\n",
      "もの: 206\n",
      "oh: 205\n",
      "愛: 187\n",
      "人: 182\n",
      "どう: 169\n",
      "夢: 162\n",
      "心: 157\n",
      "もう: 150\n",
      "一: 144\n",
      "Oh: 140\n",
      "度: 137\n",
      "日: 134\n",
      "まま: 128\n",
      "風: 124\n",
      "ずっと: 119\n",
      "なぜ: 119\n",
      "世界: 111\n",
      "気: 110\n",
      "きっと: 108\n",
      "時: 108\n",
      "目: 108\n",
      "時間: 107\n"
     ]
    }
   ],
   "source": [
    "with open('./nogizaka46-lyrics.txt', 'r', encoding='utf-8') as file:\n",
    "  text = file.read()\n",
    "\n",
    "tagger = MeCab.Tagger('')\n",
    "node = tagger.parseToNode(text)\n",
    "\n",
    "result = []\n",
    "while node is not None:\n",
    "  part = node.feature.split(\",\")[0]\n",
    "  if part in [\"名詞\", \"副詞\", \"形容詞\"]:\n",
    "    result.append(node.surface)\n",
    "  node = node.next\n",
    "\n",
    "counter = Counter(result)\n",
    "\n",
    "for word, count in counter.most_common(30):\n",
    "  print(f\"{word}: {count}\")"
   ]
  },
  {
   "cell_type": "code",
   "execution_count": 3,
   "id": "fe6ff465",
   "metadata": {},
   "outputs": [
    {
     "name": "stdout",
     "output_type": "stream",
     "text": [
      "「人生」に最も近い単語:\n",
      "自分: 0.9460\n",
      "すべて: 0.9397\n",
      "そう: 0.9354\n",
      "今: 0.9348\n",
      "いい: 0.9347\n",
      "もの: 0.9337\n",
      "人: 0.9325\n",
      "こと: 0.9323\n",
      "ない: 0.9306\n",
      "愛: 0.9277\n"
     ]
    }
   ],
   "source": [
    "with open('./nogizaka46-lyrics.txt', 'r', encoding='utf-8') as file:\n",
    "  text = file.read()\n",
    "\n",
    "tagger = MeCab.Tagger('')\n",
    "node = tagger.parseToNode(text)\n",
    "result = []\n",
    "\n",
    "while node is not None:\n",
    "  part = node.feature.split(\",\")[0]\n",
    "  if part in [\"名詞\", \"副詞\", \"形容詞\"]:\n",
    "    result.append(node.surface)\n",
    "  node = node.next\n",
    "\n",
    "model = Word2Vec([result], vector_size=100, window=5, min_count=1, workers=4)\n",
    "\n",
    "search_word = \"人生\"\n",
    "similar_words = model.wv.most_similar(search_word, topn=10)\n",
    "\n",
    "print(f\"「{search_word}」に最も近い単語:\")\n",
    "for word, similarity in similar_words:\n",
    "  print(f\"{word}: {similarity:.4f}\")"
   ]
  }
 ],
 "metadata": {
  "kernelspec": {
   "display_name": "Python 3",
   "language": "python",
   "name": "python3"
  },
  "language_info": {
   "codemirror_mode": {
    "name": "ipython",
    "version": 3
   },
   "file_extension": ".py",
   "mimetype": "text/x-python",
   "name": "python",
   "nbconvert_exporter": "python",
   "pygments_lexer": "ipython3",
   "version": "3.11.9"
  }
 },
 "nbformat": 4,
 "nbformat_minor": 5
}
