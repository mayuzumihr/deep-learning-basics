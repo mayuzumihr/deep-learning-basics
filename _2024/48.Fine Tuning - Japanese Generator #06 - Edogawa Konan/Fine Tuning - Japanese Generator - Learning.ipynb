{
  "cells": [
    {
      "cell_type": "code",
      "execution_count": 1,
      "metadata": {},
      "outputs": [
        {
          "name": "stderr",
          "output_type": "stream",
          "text": [
            "d:\\Python\\Python-3.10.11\\lib\\site-packages\\tqdm\\auto.py:21: TqdmWarning: IProgress not found. Please update jupyter and ipywidgets. See https://ipywidgets.readthedocs.io/en/stable/user_install.html\n",
            "  from .autonotebook import tqdm as notebook_tqdm\n"
          ]
        }
      ],
      "source": [
        "import os\n",
        "import re\n",
        "import glob\n",
        "import pickle\n",
        "import torch\n",
        "import pandas as pd\n",
        "from sklearn.model_selection import train_test_split\n",
        "from transformers import GPT2LMHeadModel, AutoTokenizer, TrainingArguments, Trainer, DataCollatorForLanguageModeling\n",
        "from datasets import Dataset\n",
        "\n",
        "torch.cuda.empty_cache()"
      ]
    },
    {
      "cell_type": "code",
      "execution_count": 2,
      "metadata": {},
      "outputs": [
        {
          "name": "stdout",
          "output_type": "stream",
          "text": [
            "['txt_ドイル アーサー・コナン', 'txt_江戸川 乱歩']\n",
            "dir_count = 2\n",
            "file_count = 141\n"
          ]
        }
      ],
      "source": [
        "# ---------------------------------------------------------\n",
        "# データの読み込み\n",
        "# ---------------------------------------------------------\n",
        "def load_corpus(corpus_dir):\n",
        "\n",
        "  dir_list = []\n",
        "  news_data = []\n",
        "  dir_count = 0\n",
        "  file_count = 0\n",
        "  read_count = 0\n",
        "\n",
        "  for f in os.listdir(path=corpus_dir):\n",
        "    if os.path.isdir(os.path.join(corpus_dir, f)):\n",
        "      dir_list.append(f)\n",
        "\n",
        "  for i in range(len(dir_list)):\n",
        "\n",
        "    if os.path.isdir(os.path.join(corpus_dir, dir_list[i])):\n",
        "      read_count = 0\n",
        "      for file_path in glob.glob(os.path.join(corpus_dir, dir_list[i], \"*.txt\")):\n",
        "        if os.path.basename(file_path) != \"LICENSE.txt\":\n",
        "          with open(file_path, \"r\", encoding='shift-jis') as f:\n",
        "            content = f.read()\n",
        "            text = \"\".join(content)\n",
        "            text = sanitize(text)\n",
        "            news_data.append(text)\n",
        "            if (read_count >= 10000):       # ディレクトリー当たりの読み込む最大ファイル数\n",
        "              break\n",
        "            read_count = read_count + 1 \n",
        "          file_count = file_count + 1\n",
        "      dir_count = dir_count + 1\n",
        "\n",
        "  print(dir_list)\n",
        "  print(f\"dir_count = {dir_count}\")\n",
        "  print(f\"file_count = {file_count}\")\n",
        "\n",
        "  with open(\"./label.pkl\", \"wb\") as f:\n",
        "    pickle.dump(dir_list, f)\n",
        "\n",
        "  return news_data\n",
        "\n",
        "# ---------------------------------------------------------\n",
        "# コンテンツの不要な部分を削除\n",
        "# ---------------------------------------------------------\n",
        "def sanitize(text):\n",
        "  operations = [\n",
        "    lambda text: re.split(r'\\-{5,}', text)[2],\n",
        "    lambda text: re.split(r'底本：', text)[0],\n",
        "    lambda text: re.sub(r'《.+?》', '', text),\n",
        "    lambda text: re.sub(r'［＃.+?］', '', text),\n",
        "    lambda text: text.strip()\n",
        "  ]\n",
        "\n",
        "  for operation in operations:\n",
        "    try:\n",
        "      text = operation(text)\n",
        "    except Exception as e:\n",
        "      pass\n",
        "\n",
        "  return text\n",
        "\n",
        "# ---------------------------------------------------------\n",
        "# メイン\n",
        "# ---------------------------------------------------------\n",
        "news_data = load_corpus('./text')\n",
        "\n",
        "train_data, eval_data = train_test_split(news_data, shuffle=True)\n",
        "train_data = pd.DataFrame(train_data, columns=[\"text\"])\n",
        "eval_data = pd.DataFrame(eval_data, columns=[\"text\"])\n"
      ]
    },
    {
      "cell_type": "code",
      "execution_count": 3,
      "metadata": {},
      "outputs": [],
      "source": [
        "# ---------------------------------------------------------\n",
        "# データの保存\n",
        "# ---------------------------------------------------------\n",
        "csv_path = \"./csv\"\n",
        "\n",
        "if not os.path.exists(csv_path):\n",
        "  os.makedirs(csv_path)\n",
        "\n",
        "train_data.to_csv(os.path.join(csv_path, \"train_data.csv\"), index=False, encoding='utf-8')\n",
        "eval_data.to_csv(os.path.join(csv_path, \"eval_data.csv\"), index=False, encoding='utf-8')"
      ]
    },
    {
      "cell_type": "code",
      "execution_count": 4,
      "metadata": {},
      "outputs": [
        {
          "name": "stderr",
          "output_type": "stream",
          "text": [
            "You are using the default legacy behaviour of the <class 'transformers.models.t5.tokenization_t5.T5Tokenizer'>. This is expected, and simply means that the `legacy` (previous) behavior will be used so nothing changes for you. If you want to use the new behaviour, set `legacy=False`. This should only be set if you understand what it means, and thoroughly read the reason why this was added as explained in https://github.com/huggingface/transformers/pull/24565\n",
            "d:\\Python\\Python-3.10.11\\lib\\site-packages\\transformers\\tokenization_utils_base.py:1601: FutureWarning: `clean_up_tokenization_spaces` was not set. It will be set to `True` by default. This behavior will be depracted in transformers v4.45, and will be then set to `False` by default. For more details check this issue: https://github.com/huggingface/transformers/issues/31884\n",
            "  warnings.warn(\n",
            "Map: 100%|██████████| 105/105 [00:02<00:00, 37.43 examples/s]\n",
            "Map: 100%|██████████| 36/36 [00:01<00:00, 31.84 examples/s]\n"
          ]
        }
      ],
      "source": [
        "# ---------------------------------------------------------\n",
        "# トークナイズ\n",
        "# ---------------------------------------------------------\n",
        "tokenizer = AutoTokenizer.from_pretrained(\"rinna/japanese-gpt2-xsmall\")\n",
        "\n",
        "def tokenize(batch):\n",
        "  return tokenizer(batch[\"text\"], padding=True, truncation=True, max_length=512)\n",
        "\n",
        "train_dataset = Dataset.from_pandas(train_data)\n",
        "eval_dataset = Dataset.from_pandas(eval_data)\n",
        "\n",
        "train_dataset = train_dataset.map(tokenize, batched=True)\n",
        "eval_dataset = eval_dataset.map(tokenize, batched=True)\n",
        "\n",
        "train_dataset.set_format(type='torch', columns=['input_ids', 'attention_mask'])\n",
        "eval_dataset.set_format(type='torch', columns=['input_ids', 'attention_mask'])"
      ]
    },
    {
      "cell_type": "code",
      "execution_count": 5,
      "metadata": {},
      "outputs": [
        {
          "name": "stderr",
          "output_type": "stream",
          "text": [
            "  0%|          | 0/54 [00:00<?, ?it/s]d:\\Python\\Python-3.10.11\\lib\\site-packages\\transformers\\models\\gpt2\\modeling_gpt2.py:544: UserWarning: 1Torch was not compiled with flash attention. (Triggered internally at ..\\aten\\src\\ATen\\native\\transformers\\cuda\\sdp_utils.cpp:455.)\n",
            "  attn_output = torch.nn.functional.scaled_dot_product_attention(\n",
            "100%|██████████| 54/54 [00:23<00:00,  2.33it/s]\n"
          ]
        },
        {
          "name": "stdout",
          "output_type": "stream",
          "text": [
            "{'train_runtime': 23.176, 'train_samples_per_second': 9.061, 'train_steps_per_second': 2.33, 'train_loss': 4.549195466218172, 'epoch': 2.0}\n"
          ]
        },
        {
          "name": "stderr",
          "output_type": "stream",
          "text": [
            "100%|██████████| 9/9 [00:01<00:00,  5.82it/s]\n"
          ]
        },
        {
          "data": {
            "text/plain": [
              "{'eval_loss': 4.616745471954346,\n",
              " 'eval_runtime': 1.7518,\n",
              " 'eval_samples_per_second': 20.55,\n",
              " 'eval_steps_per_second': 5.138,\n",
              " 'epoch': 2.0}"
            ]
          },
          "execution_count": 5,
          "metadata": {},
          "output_type": "execute_result"
        }
      ],
      "source": [
        "# ---------------------------------------------------------\n",
        "# 学習と評価\n",
        "# ---------------------------------------------------------\n",
        "model = GPT2LMHeadModel.from_pretrained(\"rinna/japanese-gpt2-xsmall\")\n",
        "data_collator = DataCollatorForLanguageModeling(tokenizer, mlm=False)\n",
        "\n",
        "# for param in model.transformer.h[0:2].parameters():    # 先頭 2 層を凍結\n",
        "#   param.requires_grad = False\n",
        "\n",
        "# 最初の 12 層をフリーズし、最後の層は学習可能にする\n",
        "# for param in model.transformer.h[:12].parameters():\n",
        "#  param.requires_grad = False\n",
        "\n",
        "for param in model.transformer.parameters():    # すべての層をフリーズ\n",
        "  param.requires_grad = False\n",
        "\n",
        "for param in model.lm_head.parameters():        # エラーにならないよう、出力層（lm_head）のフリーズを解除\n",
        "  param.requires_grad = True\n",
        "\n",
        "training_args = TrainingArguments(\n",
        "  output_dir = \"./results\",                 # 結果を格納するディレクトリー\n",
        "  logging_dir = \"./logs\",                   # 途中経過のログを格納するディレクトリー\n",
        "  overwrite_output_dir = True,              # ファイルを上書きする\n",
        "  num_train_epochs = 2,                     # エポック数\n",
        "  per_device_train_batch_size = 4,          # 訓練時のバッチサイズ\n",
        "  per_device_eval_batch_size = 4,           # 評価時のバッチサイズ\n",
        "  warmup_steps = 500,                       # 学習系数がこのステップ数で徐々に増加\n",
        "  weight_decay = 0.01,                      # 重みの減衰率\n",
        "  eval_strategy = \"steps\",                  # 訓練中、一定のステップごとに評価\n",
        "  save_safetensors = False                  # safetensors の使用を無効化\n",
        ")\n",
        "\n",
        "trainer = Trainer(\n",
        "  model = model,                            # 使用するモデルを指定\n",
        "  args = training_args,                     # TrainingArguments の設定\n",
        "  train_dataset = train_dataset,            # 訓練用のデータ\n",
        "  eval_dataset = eval_dataset,              # 評価用のデータ\n",
        "  data_collator = data_collator             # データコレーターを設定\n",
        ")\n",
        "\n",
        "trainer.train()\n",
        "trainer.evaluate()"
      ]
    },
    {
      "cell_type": "code",
      "execution_count": 6,
      "metadata": {},
      "outputs": [
        {
          "data": {
            "text/plain": [
              "('./model\\\\tokenizer_config.json',\n",
              " './model\\\\special_tokens_map.json',\n",
              " './model\\\\spiece.model',\n",
              " './model\\\\added_tokens.json',\n",
              " './model\\\\tokenizer.json')"
            ]
          },
          "execution_count": 6,
          "metadata": {},
          "output_type": "execute_result"
        }
      ],
      "source": [
        "# ---------------------------------------------------------\n",
        "# モデルの保存\n",
        "# ---------------------------------------------------------\n",
        "model_path = \"./model\"\n",
        "\n",
        "if not os.path.exists(model_path):\n",
        "  os.makedirs(model_path)\n",
        "\n",
        "model.save_pretrained(model_path)\n",
        "tokenizer.save_pretrained(model_path)"
      ]
    }
  ],
  "metadata": {
    "accelerator": "GPU",
    "colab": {
      "provenance": []
    },
    "kernelspec": {
      "display_name": "Python 3",
      "name": "python3"
    },
    "language_info": {
      "codemirror_mode": {
        "name": "ipython",
        "version": 3
      },
      "file_extension": ".py",
      "mimetype": "text/x-python",
      "name": "python",
      "nbconvert_exporter": "python",
      "pygments_lexer": "ipython3",
      "version": "3.10.11"
    }
  },
  "nbformat": 4,
  "nbformat_minor": 0
}
