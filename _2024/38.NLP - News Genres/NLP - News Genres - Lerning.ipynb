{
 "cells": [
  {
   "cell_type": "code",
   "execution_count": 3,
   "metadata": {},
   "outputs": [],
   "source": [
    "import os\n",
    "import glob\n",
    "import MeCab\n",
    "import ipadic\n",
    "import joblib\n",
    "import pandas as pd\n",
    "from sklearn.feature_extraction.text import TfidfVectorizer\n",
    "from sklearn.model_selection import train_test_split\n",
    "from sklearn.linear_model import LogisticRegression\n",
    "from sklearn.pipeline import Pipeline\n",
    "from sklearn import metrics"
   ]
  },
  {
   "cell_type": "code",
   "execution_count": 4,
   "metadata": {},
   "outputs": [],
   "source": [
    "# ---------------------------------------------------------\n",
    "# データの読み込み\n",
    "# ---------------------------------------------------------\n",
    "def load_livedoor_corpus(corpus_dir):\n",
    "\n",
    "\ttexts = []\n",
    "\tlabels = []\n",
    "\tdir_count = 0\n",
    "\tfile_count = 0\n",
    "\n",
    "\tfor label in os.listdir(corpus_dir):\n",
    "\n",
    "\t\tif os.path.isdir(os.path.join(corpus_dir, label)):\n",
    "\t\t\tdir_count = dir_count + 1 \n",
    "\n",
    "\t\t\tfor file_path in glob.glob(os.path.join(corpus_dir, label, \"*.txt\")):\n",
    "\n",
    "\t\t\t\tif os.path.basename(file_path) != \"LICENSE.txt\":\n",
    "\t\t\t\t\tfile_count = file_count + 1\n",
    "\n",
    "\t\t\t\t\twith open(file_path, 'r', encoding='utf-8') as f:\n",
    "\t\t\t\t\t\tcontent = f.read().splitlines()[2:]       # 最初の 2 行はメタデータなのでスキップ\n",
    "\t\t\t\t\t\ttext = \"\".join(content)\n",
    "\t\t\t\t\t\ttext = text.translate(str.maketrans({\"\\n\":\"\", \"\\t\":\"\", \"\\r\":\"\", \"\\u3000\":\"\"}))      # 特殊文字を除去\n",
    "\t\t\t\t\t\ttexts.append(text)\n",
    "\t\t\t\t\t\tlabels.append(label)\n",
    "\n",
    "\tprint(f\"dir_count = {dir_count}\")\n",
    "\tprint(f\"file_count = {file_count}\")\n",
    "\n",
    "\treturn texts, labels\n",
    "\n",
    "# ---------------------------------------------------------\n",
    "# 形態素解析\n",
    "# ---------------------------------------------------------\n",
    "def preprocess_text(text):\n",
    "\tmecab = MeCab.Tagger(\"-Owakati\")\n",
    "\treturn mecab.parse(text).strip()"
   ]
  },
  {
   "cell_type": "code",
   "execution_count": 5,
   "metadata": {},
   "outputs": [
    {
     "name": "stdout",
     "output_type": "stream",
     "text": [
      "dir_count = 9\n",
      "file_count = 7367\n",
      "Accuracy: 0.9104\n",
      "                precision    recall  f1-score   support\n",
      "\n",
      "dokujo-tsushin       0.86      0.94      0.90       160\n",
      "  it-life-hack       0.94      0.89      0.91       169\n",
      " kaden-channel       0.94      0.90      0.92       164\n",
      "livedoor-homme       0.96      0.70      0.81       122\n",
      "   movie-enter       0.89      0.97      0.93       173\n",
      "        peachy       0.85      0.85      0.85       174\n",
      "          smax       0.96      0.98      0.97       163\n",
      "  sports-watch       0.92      0.98      0.95       197\n",
      "    topic-news       0.91      0.91      0.91       152\n",
      "\n",
      "      accuracy                           0.91      1474\n",
      "     macro avg       0.91      0.90      0.91      1474\n",
      "  weighted avg       0.91      0.91      0.91      1474\n",
      "\n",
      "Confusion Matrix:\n",
      "[[151   0   0   0   2   7   0   0   0]\n",
      " [  3 150   5   0   1   0   3   3   4]\n",
      " [  1   3 148   1   4   2   0   0   5]\n",
      " [  3   5   5  85   5  13   1   4   1]\n",
      " [  1   0   0   0 168   3   0   1   0]\n",
      " [ 15   0   0   2   6 148   2   1   0]\n",
      " [  0   1   0   0   0   2 160   0   0]\n",
      " [  0   0   0   0   0   0   0 194   3]\n",
      " [  2   0   0   1   3   0   0   8 138]]\n"
     ]
    }
   ],
   "source": [
    "# ---------------------------------------------------------\n",
    "# メイン\n",
    "# ---------------------------------------------------------\n",
    "texts, labels = load_livedoor_corpus('./text')\n",
    "\n",
    "# テキストを前処理\n",
    "texts = [preprocess_text(text) for text in texts]\n",
    "\n",
    "# データをデータフレームに変換\n",
    "df = pd.DataFrame({'text': texts, 'label': labels})\n",
    "\n",
    "# データを訓練データとテストデータに分割\n",
    "x_train, x_test, y_train, y_test = train_test_split(df['text'], df['label'], test_size=0.2, random_state=1)\n",
    "\n",
    "# TF-IDF と ロジスティック回帰分類器のパイプラインを作成\n",
    "pipeline = Pipeline([\n",
    "\t('tfidf', TfidfVectorizer(max_df=0.75, ngram_range=(1, 1))),        # TfidfVectorizer で特徴量を生成\n",
    "\t('clf', LogisticRegression(max_iter=3000))                          # LogisticRegression で学習\n",
    "])\n",
    "\n",
    "# モデルの訓練\n",
    "pipeline.fit(x_train, y_train)\n",
    "\n",
    "# テストデータを用いた予測\n",
    "y_pred = pipeline.predict(x_test)\n",
    "\n",
    "# モデルの評価\n",
    "accuracy = metrics.accuracy_score(y_test, y_pred)\n",
    "print(f'Accuracy: {accuracy:.4f}')\n",
    "print(metrics.classification_report(y_test, y_pred))\n",
    "\n",
    "# 混同行列の表示\n",
    "conf_matrix = metrics.confusion_matrix(y_test, y_pred)\n",
    "print('Confusion Matrix:')\n",
    "print(conf_matrix)"
   ]
  },
  {
   "cell_type": "code",
   "execution_count": 6,
   "metadata": {},
   "outputs": [
    {
     "data": {
      "text/plain": [
       "['text_classification_model.pkl']"
      ]
     },
     "execution_count": 6,
     "metadata": {},
     "output_type": "execute_result"
    }
   ],
   "source": [
    "# ---------------------------------------------------------\n",
    "# モデルの保存\n",
    "# ---------------------------------------------------------\n",
    "joblib.dump(pipeline, 'text_classification_model.pkl')"
   ]
  }
 ],
 "metadata": {
  "kernelspec": {
   "display_name": "Python 3",
   "language": "python",
   "name": "python3"
  },
  "language_info": {
   "codemirror_mode": {
    "name": "ipython",
    "version": 3
   },
   "file_extension": ".py",
   "mimetype": "text/x-python",
   "name": "python",
   "nbconvert_exporter": "python",
   "pygments_lexer": "ipython3",
   "version": "3.10.11"
  }
 },
 "nbformat": 4,
 "nbformat_minor": 2
}
