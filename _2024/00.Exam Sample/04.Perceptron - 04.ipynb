{
 "cells": [
  {
   "cell_type": "markdown",
   "metadata": {},
   "source": [
    "### ■ パーセプトロン"
   ]
  },
  {
   "cell_type": "code",
   "execution_count": 1,
   "metadata": {},
   "outputs": [],
   "source": [
    "import numpy as np"
   ]
  },
  {
   "cell_type": "markdown",
   "metadata": {},
   "source": [
    "### ■ 引数を配列にする"
   ]
  },
  {
   "cell_type": "code",
   "execution_count": 2,
   "metadata": {},
   "outputs": [
    {
     "name": "stdout",
     "output_type": "stream",
     "text": [
      "AND(0, 0) : 0\n",
      "AND(0, 1) : 0\n",
      "AND(1, 0) : 0\n",
      "AND(1, 1) : 1\n"
     ]
    }
   ],
   "source": [
    "#------------------------------------------------------------------------------\n",
    "# func_step 関数\n",
    "#------------------------------------------------------------------------------\n",
    "def func_step(x):\n",
    "  y = np.where(x > 0, 1, 0)\n",
    "  return y\n",
    "\n",
    "#------------------------------------------------------------------------------\n",
    "# func_sigmoid 関数\n",
    "#------------------------------------------------------------------------------\n",
    "def func_sigmoid(x):\n",
    "  y = 1 / (1 + np.exp(-x))\n",
    "  return y\n",
    "\n",
    "#------------------------------------------------------------------------------\n",
    "# AND Gate\n",
    "#------------------------------------------------------------------------------\n",
    "def _and_(x):\n",
    "  weight = [0.5, 0.5]\n",
    "  bias = -0.75\n",
    "  ans = np.dot(x, weight) + bias\n",
    "\n",
    "  return func_step(ans)\n",
    "\n",
    "#------------------------------------------------------------------------------\n",
    "# Main\n",
    "#------------------------------------------------------------------------------\n",
    "print(f'AND(0, 0) : {_and_([0, 0],)}')\n",
    "print(f'AND(0, 1) : {_and_([0, 1])}')\n",
    "print(f'AND(1, 0) : {_and_([1, 0])}')\n",
    "print(f'AND(1, 1) : {_and_([1, 1])}')"
   ]
  },
  {
   "cell_type": "markdown",
   "metadata": {},
   "source": [
    "### ■ クラス化"
   ]
  },
  {
   "cell_type": "code",
   "execution_count": 3,
   "metadata": {},
   "outputs": [
    {
     "name": "stdout",
     "output_type": "stream",
     "text": [
      "AND(0, 0) : 0.320821300824607\n",
      "AND(0, 1) : 0.43782349911420193\n",
      "AND(1, 0) : 0.43782349911420193\n",
      "AND(1, 1) : 0.5621765008857981\n"
     ]
    }
   ],
   "source": [
    "#------------------------------------------------------------------------------\n",
    "# Generarized Perceptron Class\n",
    "#------------------------------------------------------------------------------\n",
    "class Perceptron:\n",
    "\n",
    "  def __init__(self, weight, bias):\n",
    "    self.weight = weight\n",
    "    self.bias = bias\n",
    "\n",
    "  def func_step(self, x):\n",
    "    y = np.where(x > 0, 1, 0)\n",
    "    return y\n",
    "\n",
    "  def func_sigmoid(self, x):\n",
    "    y = 1 / (1 + np.exp(-x))\n",
    "    return y\n",
    "\n",
    "  def func_predict(self, x):\n",
    "    ans = np.dot(x, self.weight) + self.bias\n",
    "    pred = self.func_sigmoid(ans)\n",
    "    return pred\n",
    "\n",
    "#------------------------------------------------------------------------------\n",
    "# Main\n",
    "#------------------------------------------------------------------------------\n",
    "ptron = Perceptron([0.5, 0.5], -0.75)                 # AND\n",
    "\n",
    "print(f'AND(0, 0) : {ptron.func_predict([0, 0])}')\n",
    "print(f'AND(0, 1) : {ptron.func_predict([0, 1])}')\n",
    "print(f'AND(1, 0) : {ptron.func_predict([1, 0])}')\n",
    "print(f'AND(1, 1) : {ptron.func_predict([1, 1])}')\n"
   ]
  }
 ],
 "metadata": {
  "kernelspec": {
   "display_name": "Python 3",
   "language": "python",
   "name": "python3"
  },
  "language_info": {
   "codemirror_mode": {
    "name": "ipython",
    "version": 3
   },
   "file_extension": ".py",
   "mimetype": "text/x-python",
   "name": "python",
   "nbconvert_exporter": "python",
   "pygments_lexer": "ipython3",
   "version": "3.12.2"
  }
 },
 "nbformat": 4,
 "nbformat_minor": 2
}
