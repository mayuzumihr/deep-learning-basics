{
 "cells": [
  {
   "cell_type": "markdown",
   "metadata": {},
   "source": [
    "### ■ パーセプトロン"
   ]
  },
  {
   "cell_type": "code",
   "execution_count": 2,
   "metadata": {},
   "outputs": [],
   "source": [
    "import numpy as np"
   ]
  },
  {
   "cell_type": "markdown",
   "metadata": {},
   "source": [
    "### ■ 学習データと正解ラベルを与え、Weight と Bias を勾配降下で更新する（初期値はランダム）"
   ]
  },
  {
   "cell_type": "code",
   "execution_count": 3,
   "metadata": {},
   "outputs": [
    {
     "name": "stdout",
     "output_type": "stream",
     "text": [
      "weight=[5.60412254 5.59806857]\n",
      "bias=-8.569887112502883\n",
      "---\n",
      "(0, 0) : 0.0001896980750196168\n",
      "(0, 1) : 0.048715378659504385\n",
      "(1, 0) : 0.048996700509385774\n",
      "(1, 1) : 0.9329118944064463\n"
     ]
    }
   ],
   "source": [
    "#------------------------------------------------------------------------------\n",
    "# Perceptron Training & Predict\n",
    "#------------------------------------------------------------------------------\n",
    "class Perceptron:\n",
    "\n",
    "  def __init__(self, size):\n",
    "    self.weight = np.random.rand(size)\n",
    "    self.bias = np.random.rand()\n",
    "\n",
    "  def func_step(self, x):\n",
    "    y = np.where(x > 0, 1, 0)\n",
    "    return y\n",
    "\n",
    "  def func_sigmoid(self, x):\n",
    "    y = 1 / (1 + np.exp(-x))\n",
    "    return y\n",
    "\n",
    "  def func_loss(self, y_data, t_data):\n",
    "    loss = np.sum((y_data - t_data))                    # MSE derivative (MSE: 1/2 * np.sum(y - t) ^ 2)\n",
    "    return loss\n",
    "\n",
    "  def func_predict(self, x_data):\n",
    "    ans = np.dot(x_data, self.weight) + self.bias\n",
    "    pred = self.func_sigmoid(ans)\n",
    "    return pred\n",
    "\n",
    "  def func_train(self, x_data, y_data):\n",
    "    epoch = 1000                                        # 学習回数\n",
    "    learning_rate = 0.1                                 # 学習率\n",
    "    for _ in range(epoch):\n",
    "      for i in range(len(x_data)):\n",
    "        pred_value = self.func_predict(x_data[i])                                   # 学習データから予測して\n",
    "        loss_value = self.func_loss(pred_value, y_data[i])                          # 予測結果との誤差出して\n",
    "        self.weight = self.weight - (x_data[i] * loss_value * learning_rate)        # 重みを更新して\n",
    "        self.bias = self.bias - (loss_value * learning_rate)                        # バイアスの更新する\n",
    "    return self.weight, self.bias\n",
    "\n",
    "#------------------------------------------------------------------------------\n",
    "# Main\n",
    "#------------------------------------------------------------------------------\n",
    "ptron = Perceptron(size=2)                              # input は 2 つ\n",
    "\n",
    "x_data = np.array([[0, 0], [0, 1], [1, 0], [1, 1]])     # 学習データ（説明変数）\n",
    "y_data = np.array([0, 0, 0, 1])                         # 正解ラベル（目的変数）\n",
    "weight, bias = ptron.func_train(x_data, y_data)         # => XOR は求めることができない\n",
    "\n",
    "print(f'weight={weight}')\n",
    "print(f'bias={bias}')\n",
    "print(f'---')\n",
    "print(f'(0, 0) : {ptron.func_predict([0, 0])}')\n",
    "print(f'(0, 1) : {ptron.func_predict([0, 1])}')\n",
    "print(f'(1, 0) : {ptron.func_predict([1, 0])}')\n",
    "print(f'(1, 1) : {ptron.func_predict([1, 1])}')"
   ]
  },
  {
   "cell_type": "markdown",
   "metadata": {},
   "source": [
    "### ■ T で転置してから dot で内積を計算し、for 文を 1 つ消す"
   ]
  },
  {
   "cell_type": "code",
   "execution_count": 4,
   "metadata": {},
   "outputs": [
    {
     "name": "stdout",
     "output_type": "stream",
     "text": [
      "weight=[5.58707421 5.58707045]\n",
      "bias=-8.560153823768182\n",
      "---\n",
      "(0, 0) : 0.00019155312067759114\n",
      "(0, 1) : 0.04865679674211922\n",
      "(1, 0) : 0.04865697118445349\n",
      "(1, 1) : 0.9317565961790026\n"
     ]
    }
   ],
   "source": [
    "#------------------------------------------------------------------------------\n",
    "# Perceptron Training & Predict\n",
    "#------------------------------------------------------------------------------\n",
    "class Perceptron:\n",
    "\n",
    "  def __init__(self, size):\n",
    "    self.weight = np.random.rand(size)\n",
    "    self.bias = np.random.rand()\n",
    "\n",
    "  def func_step(self, x):\n",
    "    y = np.where(x > 0, 1, 0)\n",
    "    return y\n",
    "\n",
    "  def func_sigmoid(self, x):\n",
    "    y = 1 / (1 + np.exp(-x))\n",
    "    return y\n",
    "\n",
    "#  def func_loss(self, y_data, t_data):\n",
    "#    loss = np.sum((y_data - t_data))                    # MSE derivative (MSE: 1/2 * np.sum(y - t) ^ 2)\n",
    "#    return loss\n",
    "\n",
    "  def func_predict(self, x_data):\n",
    "    ans = np.dot(x_data, self.weight) + self.bias\n",
    "    pred = self.func_sigmoid(ans)\n",
    "    return pred\n",
    "\n",
    "  def func_train(self, x_data, y_data):\n",
    "    epoch = 1000\n",
    "    learning_rate = 0.1\n",
    "    for _ in range(epoch):\n",
    "      pred_value = self.func_predict(x_data)\n",
    "      loss_value = pred_value - y_data                  # loss_value を配列のままにするため、func_loss は使用しない\n",
    "      self.weight = self.weight - (np.dot(x_data.T, loss_value) * learning_rate)\n",
    "      self.bias = self.bias - (np.sum(loss_value) * learning_rate)\n",
    "\n",
    "    return self.weight, self.bias\n",
    "\n",
    "#------------------------------------------------------------------------------\n",
    "# Main\n",
    "#------------------------------------------------------------------------------\n",
    "ptron = Perceptron(size=2)\n",
    "\n",
    "x_data = np.array([[0, 0], [0, 1], [1, 0], [1, 1]])     # 学習データ（説明変数）\n",
    "y_data = np.array([0, 0, 0, 1])                         # 正解ラベル（目的変数）\n",
    "\n",
    "weight, bias = ptron.func_train(x_data, y_data)         # => XOR は求めることができない\n",
    "\n",
    "print(f'weight={weight}')\n",
    "print(f'bias={bias}')\n",
    "print(f'---')\n",
    "print(f'(0, 0) : {ptron.func_predict(np.array([0, 0]))}')\n",
    "print(f'(0, 1) : {ptron.func_predict(np.array([0, 1]))}')\n",
    "print(f'(1, 0) : {ptron.func_predict(np.array([1, 0]))}')\n",
    "print(f'(1, 1) : {ptron.func_predict(np.array([1, 1]))}')\n"
   ]
  }
 ],
 "metadata": {
  "kernelspec": {
   "display_name": "Python 3",
   "language": "python",
   "name": "python3"
  },
  "language_info": {
   "codemirror_mode": {
    "name": "ipython",
    "version": 3
   },
   "file_extension": ".py",
   "mimetype": "text/x-python",
   "name": "python",
   "nbconvert_exporter": "python",
   "pygments_lexer": "ipython3",
   "version": "3.12.2"
  }
 },
 "nbformat": 4,
 "nbformat_minor": 2
}
