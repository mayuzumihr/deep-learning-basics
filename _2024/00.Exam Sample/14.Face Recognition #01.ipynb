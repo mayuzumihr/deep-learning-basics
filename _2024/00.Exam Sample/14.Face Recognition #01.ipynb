{
 "cells": [
  {
   "cell_type": "code",
   "execution_count": 3,
   "metadata": {},
   "outputs": [],
   "source": [
    "import numpy as np\n",
    "from tensorflow.keras.applications import ResNet50\n",
    "from tensorflow.keras.preprocessing import image\n",
    "from tensorflow.keras.applications.resnet50 import preprocess_input, decode_predictions"
   ]
  },
  {
   "cell_type": "code",
   "execution_count": 4,
   "metadata": {},
   "outputs": [
    {
     "name": "stdout",
     "output_type": "stream",
     "text": [
      "\u001b[1m1/1\u001b[0m \u001b[32m━━━━━━━━━━━━━━━━━━━━\u001b[0m\u001b[37m\u001b[0m \u001b[1m2s\u001b[0m 2s/step\n",
      "Predicted: [('n02111889', 'Samoyed', 0.969068), ('n02112137', 'chow', 0.018268052), ('n02112018', 'Pomeranian', 0.00813763)]\n"
     ]
    }
   ],
   "source": [
    "model = ResNet50(weights='imagenet')        # ResNet50 モデルの読み込み（事前トレーニング済み）\n",
    "image_loaded = image.load_img('./samoyed.jpg', target_size=(224, 224))\n",
    "\n",
    "image_array = image.img_to_array(image_loaded)\n",
    "image_array = preprocess_input(image_array)\n",
    "image_array = np.expand_dims(image_array, axis=0)\n",
    "\n",
    "pred = model.predict(image_array)\n",
    "print('Predicted:', decode_predictions(pred, top=3)[0])"
   ]
  }
 ],
 "metadata": {
  "kernelspec": {
   "display_name": "Python 3",
   "language": "python",
   "name": "python3"
  },
  "language_info": {
   "codemirror_mode": {
    "name": "ipython",
    "version": 3
   },
   "file_extension": ".py",
   "mimetype": "text/x-python",
   "name": "python",
   "nbconvert_exporter": "python",
   "pygments_lexer": "ipython3",
   "version": "3.11.9"
  }
 },
 "nbformat": 4,
 "nbformat_minor": 2
}
