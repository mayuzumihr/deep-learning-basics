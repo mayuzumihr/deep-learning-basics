{
 "cells": [
  {
   "cell_type": "code",
   "execution_count": 1,
   "metadata": {},
   "outputs": [],
   "source": [
    "import re\n",
    "import MeCab\n",
    "from collections import Counter"
   ]
  },
  {
   "cell_type": "code",
   "execution_count": 2,
   "metadata": {},
   "outputs": [
    {
     "name": "stdout",
     "output_type": "stream",
     "text": [
      "['猫', 'ある', '名前', 'ない']\n"
     ]
    }
   ],
   "source": [
    "tagger = MeCab.Tagger()\n",
    "node = tagger.parseToNode(\"吾輩は猫である。名前はまだない。\")\n",
    "result = []\n",
    "\n",
    "while node is not None:\n",
    "  part = node.feature.split(\",\")[0]\n",
    "  if part in [\"名詞\", \"動詞\", \"形容詞\"]:\n",
    "    result.append(node.surface)\n",
    "#    result.append(node.feature.split(\",\")[6])\n",
    "  node = node.next\n",
    "\n",
    "print(result)"
   ]
  },
  {
   "cell_type": "code",
   "execution_count": 3,
   "metadata": {},
   "outputs": [
    {
     "name": "stdout",
     "output_type": "stream",
     "text": [
      "ジョバンニ: 199\n",
      "カムパネルラ: 112\n",
      "方: 71\n",
      "一: 64\n",
      "みんな: 62\n",
      "中: 62\n",
      "ほんとう: 57\n",
      "人: 55\n",
      "こと: 49\n",
      "汽車: 45\n",
      "前: 43\n",
      "とき: 42\n",
      "窓: 41\n",
      "いま: 41\n",
      "眼: 38\n",
      "水: 37\n",
      "もの: 34\n",
      "川: 32\n",
      "天の川: 32\n",
      "向こう: 32\n",
      "二人: 31\n",
      "さっき: 30\n",
      "青年: 29\n",
      "いっぱい: 28\n",
      "上: 27\n",
      "二: 26\n",
      "女の子: 26\n",
      "声: 25\n",
      "銀河: 24\n",
      "父: 24\n"
     ]
    }
   ],
   "source": [
    "def safe_execute(text):\n",
    "  operations = [\n",
    "    lambda text: re.split(r'\\-{5,}', text)[2],\n",
    "    lambda text: re.split(r'底本：', text)[0],\n",
    "    lambda text: re.sub(r'《.+?》', '', text),\n",
    "    lambda text: re.sub(r'［＃.+?］', '', text),\n",
    "    lambda text: text.strip()\n",
    "  ]\n",
    "\n",
    "  for operation in operations:\n",
    "    try:\n",
    "      text = operation(text)\n",
    "    except Exception as e:\n",
    "      print(f\"Error executing {operation.__name__}: {e}\")\n",
    "\n",
    "  return text\n",
    "\n",
    "with open('./gingatetsudono_yoru.txt', 'r', encoding='shift-jis') as file:\n",
    "  text = safe_execute(file.read())\n",
    "\n",
    "tagger = MeCab.Tagger()\n",
    "node = tagger.parseToNode(text)\n",
    "result = []\n",
    "\n",
    "while node is not None:\n",
    "  part = node.feature.split(\",\")[0]\n",
    "  if part in [\"名詞\"]:\n",
    "    result.append(node.surface)\n",
    "  node = node.next\n",
    "\n",
    "counter = Counter(result)\n",
    "\n",
    "for word, count in counter.most_common(30):\n",
    "  print(f\"{word}: {count}\")"
   ]
  }
 ],
 "metadata": {
  "kernelspec": {
   "display_name": "Python 3",
   "language": "python",
   "name": "python3"
  },
  "language_info": {
   "codemirror_mode": {
    "name": "ipython",
    "version": 3
   },
   "file_extension": ".py",
   "mimetype": "text/x-python",
   "name": "python",
   "nbconvert_exporter": "python",
   "pygments_lexer": "ipython3",
   "version": "3.8.10"
  }
 },
 "nbformat": 4,
 "nbformat_minor": 2
}
