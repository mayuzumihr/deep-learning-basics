{
 "cells": [
  {
   "cell_type": "code",
   "execution_count": 4,
   "metadata": {},
   "outputs": [],
   "source": [
    "import os\n",
    "import glob\n",
    "import MeCab\n",
    "import ipadic\n",
    "import joblib\n",
    "import pandas as pd\n",
    "from sklearn.feature_extraction.text import TfidfVectorizer\n",
    "from sklearn.model_selection import train_test_split\n",
    "from sklearn.linear_model import LogisticRegression\n",
    "from sklearn.pipeline import Pipeline\n",
    "from sklearn import metrics"
   ]
  },
  {
   "cell_type": "code",
   "execution_count": 5,
   "metadata": {},
   "outputs": [],
   "source": [
    "# ---------------------------------------------------------\n",
    "# 形態素解析\n",
    "# ---------------------------------------------------------\n",
    "def preprocess_text(text):\n",
    "\tmecab = MeCab.Tagger(\"-Owakati\")\n",
    "\treturn mecab.parse(text).strip()"
   ]
  },
  {
   "cell_type": "code",
   "execution_count": 6,
   "metadata": {},
   "outputs": [
    {
     "name": "stdout",
     "output_type": "stream",
     "text": [
      "Predicted Genre: sports-watch\n"
     ]
    }
   ],
   "source": [
    "# ---------------------------------------------------------\n",
    "# 予測\n",
    "# ---------------------------------------------------------\n",
    "loaded_pipeline = joblib.load('text_classification_model.pkl')\n",
    "\n",
    "# 新しいニュースのジャンルを予測する関数\n",
    "def predict_genre(new_text):\n",
    "  preprocessed_text = preprocess_text(new_text)\n",
    "  prediction = loaded_pipeline.predict([preprocessed_text])\n",
    "  return prediction[0]\n",
    "\n",
    "# テスト: 新しいニュース記事の予測\n",
    "new_article = \"\"\"\n",
    "【MLB】ドジャース 6ー4 オリオールズ（日本時間29日・ロサンゼルス）\n",
    "ドジャース・大谷翔平投手は28日（日本時間29日）、本拠地・オリオールズ戦に「1番・指名打者」で出場し、先頭打者弾となる42号ソロを放つなど、4打数2安打1打点。2盗塁もマークし、史上2人目の「42本塁打-42盗塁」に到達。自らのボブルヘッドデーで躍動し、チームは6-4で勝利した。\n",
    "【実際の投稿】始球式を終えたデコピンが「何見てんのよ！」　大谷翔平が公開した愛犬の“独特表情”\n",
    "この日、先着4万人に大谷と愛犬デコピンがデザインされたボブルヘッドが配布された。試合前には球場に長蛇の列ができ、5万3290人を記録。今季16回目の完売だった。試合前にはデコピンが始球式に登場。マウンドからボールを口に咥え、ホームベース後方の大谷へ元へ一直線。見事な“ストライク投球”に球場は大歓声に包まれた。\n",
    "デコピンの始球式が終わると、初回先頭の第1打席で早速アーチをかけた。右腕コービン・バーンズがカウント1-2から投じた87.4マイル（約141キロ）のスライダーに体勢を崩されながら右翼席へ。今季4本目、通算10本目の先頭打者弾でシーズン51発ペースに乗せた。\n",
    "さらに3回には右前打を放ち二盗を成功。5回無死一塁の第3打席は一ゴロで一塁に残ると、二盗を決めるとともに投手の暴投で三進。ギャビン・ラックス内野手の遊ゴロ失の間に生還した。この日3得点を挙げ、2021年の103得点を超え、キャリアハイの104得点となった。\n",
    "1本塁打、2盗塁で1998年にアレックス・ロドリゲス（マリナーズ）が記録した「42本塁打＆46盗塁」以来となる42-42に到達した。43-43なら史上初の快挙。また、史上初の50-50も射程圏内となっている。\n",
    "試合はドジャースが2点を追う3回にテオスカー・ヘルナンデス外野手の3ランで逆転。2021年のサイ・ヤング賞右腕バーンズから6得点を奪い勝利。カード1勝1敗とした。\n",
    "\"\"\"\n",
    "\n",
    "predicted_genre = predict_genre(new_article)\n",
    "print(f'Predicted Genre: {predicted_genre}')"
   ]
  }
 ],
 "metadata": {
  "kernelspec": {
   "display_name": "Python 3",
   "language": "python",
   "name": "python3"
  },
  "language_info": {
   "codemirror_mode": {
    "name": "ipython",
    "version": 3
   },
   "file_extension": ".py",
   "mimetype": "text/x-python",
   "name": "python",
   "nbconvert_exporter": "python",
   "pygments_lexer": "ipython3",
   "version": "3.10.11"
  }
 },
 "nbformat": 4,
 "nbformat_minor": 2
}
