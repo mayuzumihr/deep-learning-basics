{
  "cells": [
    {
      "cell_type": "code",
      "execution_count": 1,
      "metadata": {},
      "outputs": [
        {
          "name": "stderr",
          "output_type": "stream",
          "text": [
            "d:\\Python\\Python-3.10.11\\lib\\site-packages\\tqdm\\auto.py:21: TqdmWarning: IProgress not found. Please update jupyter and ipywidgets. See https://ipywidgets.readthedocs.io/en/stable/user_install.html\n",
            "  from .autonotebook import tqdm as notebook_tqdm\n"
          ]
        }
      ],
      "source": [
        "from transformers import AutoTokenizer, GPT2LMHeadModel"
      ]
    },
    {
      "cell_type": "code",
      "execution_count": 3,
      "metadata": {},
      "outputs": [
        {
          "name": "stdout",
          "output_type": "stream",
          "text": [
            "むかしむかし、どうしてあなたがたは、あなたの兄弟をつれて、エジプトに、遣わされた。 あなたは主のために、ヨルダン川のほとりの丘に登った。 それからまたその丘から、あがめられて、おほむしの霊が、その家に来られた。 その霊はイスラエルの民からわたしのところに来て、わたしにわたしのことばをささげると、言った。 「イスラエルの人々の家に、だれか\n",
            "むかしむかし、とある山で、牛が石の山から落ちてきて、大きな牛の頭を掘り当てて作った牛柵。 牛は、その山を治めて牛を飼った。 その牛小屋は荒れ、荒れ果てていた。 ある日、山の山頂に牛が現れて牛に石を投げつけた。 そして、それを壊して作った柵で牛を殺し、柵は崩れ落ちた。 この牛狩りは、「牛山戦争」と呼ばれる。 これは、山\n",
            "むかしむかし、不思議な書物を書いていた。 — スニタ・ノヤ、あるいはこの書物の作者は、ある女性(あるいはその姉妹)。 その人のことを、「ミレタ」と呼ぶ。 ある女性、つまりミイラは「ミバ」と呼ばれていた。 彼女は、その女が持っている「ムギ」という宝石を、とても貴重だと思い、身につけるようにした。 この宝石はミエラタという名前に、異論を唱える\n",
            "むかしむかし、わたしはあなたがたをさばいて、あなたの先祖の霊をほめ讃えていた。 」(創世記17:1) 「わたしの祖先は、この世の神々(アブラハム、イサク、ヤコブ、ベテナ、イブ、アモーラ)の子孫で、その子孫は代々その祖神(ヘブル語: יו、英:theeloha)の民\n",
            "むかしむかし、六波羅蜜柑が山菜を煮詰めた「梅干し」の煮物が、 いまの主人の家で食べるにはとても量が多く、 一か月で半分以上食べると、胃を壊して死に至るらしい。 夫は二足歩行で、歩きながらお菓子をつまむなど、家の中ではなかなかにハードだった。 この話を主人にすると、主人は「一足で食べられる」と言って、一か月後には\n",
            "むかしむかし、ある人が夜中に森のへばりに、 小さな村人たちを連れてきて、 その村人をさらって行った。 すると、森の奥に巨大な木が落ちて、その森を真っ二つに割ってしまった。 これはどうしようもなかった。 そこで、彼は村の人々を呼んで、この木を切ってもらいたいと願い、 これともまた、むかって森に行ったが、それは叶わなかった。 そして、そこで初めて、人々はこの森\n",
            "むかしむかし、あなたがたは、わたしの国の人びとが、神の国に来れたなら、その人を祝福してくださるであろうからです」。ヨシュアはイスラエルの人々から、主と人の声が聞こえると、ヨセフが見ている。 ヨシャパテとナザレの子、すなわちヨハドとアヤカの子らのうちから あなたは、「主よ。あなたとともにいる者は、だれもが\n",
            "むかしむかし、むかえりこむすめが、ある人のために、神をほめたたえよ。 その人は必ずこれをつかさどる。 (イザヤ37:3) 人はこの国のために働き、主のいのちをお与えになった。 わたしがあなたにおくった神の言葉にしたがって、あなたがたは、こう言われた。 「あなたはわたしのところにいらっしゃる方。 大いなる、私たちの\n",
            "むかしむかし、むしむことばが、すむごじ、むさしとさばきをうたうがために、ひねもすがにやし、しもむず、きしびしをさばくのがむしい。 つゆがかかって、つうてきは、かしぐねむ。 『三種集』は、『三種の神器』のうちの1つで、大木のいすはむす\n",
            "むかしむかし、むろんむこうのきもちが「むしむ」と読むようになったのは、室町時代に、この物語が書かれたからである。 足利将軍家が足利尊氏を鎌倉に招いた際に、朝廷から「まめつむり」の作文を賜っている。 『続日本紀』にこの話は現れており、南北朝時代に足利直義が将軍足利義満から将軍義政に宛てて送った文章が『日本後紀\n"
          ]
        }
      ],
      "source": [
        "model_path = \"./model\"\n",
        "\n",
        "tokenizer = AutoTokenizer.from_pretrained(model_path)\n",
        "model = GPT2LMHeadModel.from_pretrained(model_path)\n",
        "\n",
        "prompt = \"むかしむかし、\"\n",
        "inputs = tokenizer(prompt, return_tensors=\"pt\", padding=True)\n",
        "\n",
        "output = model.generate(\n",
        "  input_ids = inputs['input_ids'],\n",
        "  attention_mask = inputs['attention_mask'],\n",
        "  max_length = 100,                       # 生成する文章の最大長を指定\n",
        "  num_return_sequences = 10,              # 生成する文の数\n",
        "  no_repeat_ngram_size = 2,               # n-gramの繰り返しを避ける\n",
        "  top_k = 50,                             # 上位k個の単語からランダムに選ぶ\n",
        "  top_p = 0.9,                            # 上位確率pの単語からランダムに選ぶ\n",
        "  temperature = 0.9,                      # ランダム性の制御\n",
        "  do_sample = True,                       # サンプリングを有効にする\n",
        "  pad_token_id = tokenizer.eos_token_id   # pad_token_idをeos_token_idに設定\n",
        ")\n",
        "\n",
        "for generated_text in output:\n",
        "  print(tokenizer.decode(generated_text, skip_special_tokens=True))"
      ]
    }
  ],
  "metadata": {
    "accelerator": "GPU",
    "colab": {
      "provenance": []
    },
    "kernelspec": {
      "display_name": "Python 3",
      "name": "python3"
    },
    "language_info": {
      "codemirror_mode": {
        "name": "ipython",
        "version": 3
      },
      "file_extension": ".py",
      "mimetype": "text/x-python",
      "name": "python",
      "nbconvert_exporter": "python",
      "pygments_lexer": "ipython3",
      "version": "3.10.11"
    }
  },
  "nbformat": 4,
  "nbformat_minor": 0
}
