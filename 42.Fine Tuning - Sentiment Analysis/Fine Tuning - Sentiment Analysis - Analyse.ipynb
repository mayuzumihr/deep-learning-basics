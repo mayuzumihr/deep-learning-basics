{
  "cells": [
    {
      "cell_type": "code",
      "execution_count": 5,
      "metadata": {},
      "outputs": [],
      "source": [
        "import torch\n",
        "from transformers import BertTokenizerFast, BertForSequenceClassification"
      ]
    },
    {
      "cell_type": "code",
      "execution_count": 8,
      "metadata": {},
      "outputs": [
        {
          "name": "stdout",
          "output_type": "stream",
          "text": [
            "result: Positive\n"
          ]
        }
      ],
      "source": [
        "# ---------------------------------------------------------\n",
        "# 感情分析\n",
        "# ---------------------------------------------------------\n",
        "model_path = \"./model\"\n",
        "\n",
        "loaded_model = BertForSequenceClassification.from_pretrained(model_path)\n",
        "loaded_tokenizer = BertTokenizerFast.from_pretrained(model_path)\n",
        "\n",
        "device = torch.device(\"cuda\" if torch.cuda.is_available() else \"cpu\")\n",
        "loaded_model.to(device)\n",
        "\n",
        "new_text = \"\"\"\n",
        "I loved the way the movie unfolded, keeping me on the edge of my seat throughout. The performances were stellar, and the storyline was truly captivating.\n",
        "\"\"\"\n",
        "\n",
        "max_length = 512\n",
        "inputs = loaded_tokenizer(new_text, return_tensors=\"pt\", max_length=max_length, truncation=True, padding=\"max_length\")\n",
        "inputs = {k: v.to(device) for k, v in inputs.items()}\n",
        "\n",
        "loaded_model.eval()\n",
        "with torch.no_grad():\n",
        "  outputs = loaded_model(**inputs)\n",
        "\n",
        "pred = torch.argmax(outputs.logits, dim=-1)\n",
        "result = \"Positive\" if pred.item() == 1 else \"Negative\"\n",
        "\n",
        "print(\"result:\", result)\n"
      ]
    }
  ],
  "metadata": {
    "accelerator": "GPU",
    "colab": {
      "provenance": []
    },
    "kernelspec": {
      "display_name": "Python 3",
      "name": "python3"
    },
    "language_info": {
      "codemirror_mode": {
        "name": "ipython",
        "version": 3
      },
      "file_extension": ".py",
      "mimetype": "text/x-python",
      "name": "python",
      "nbconvert_exporter": "python",
      "pygments_lexer": "ipython3",
      "version": "3.10.11"
    }
  },
  "nbformat": 4,
  "nbformat_minor": 0
}
