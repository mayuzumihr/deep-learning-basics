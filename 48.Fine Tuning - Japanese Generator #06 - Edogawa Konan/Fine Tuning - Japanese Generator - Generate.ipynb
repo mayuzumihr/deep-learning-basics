{
  "cells": [
    {
      "cell_type": "code",
      "execution_count": 2,
      "metadata": {},
      "outputs": [
        {
          "name": "stderr",
          "output_type": "stream",
          "text": [
            "d:\\Python\\Python-3.10.11\\lib\\site-packages\\tqdm\\auto.py:21: TqdmWarning: IProgress not found. Please update jupyter and ipywidgets. See https://ipywidgets.readthedocs.io/en/stable/user_install.html\n",
            "  from .autonotebook import tqdm as notebook_tqdm\n"
          ]
        }
      ],
      "source": [
        "from transformers import AutoTokenizer, GPT2LMHeadModel\n",
        "import torch\n",
        "\n",
        "torch.cuda.empty_cache()"
      ]
    },
    {
      "cell_type": "code",
      "execution_count": 8,
      "metadata": {},
      "outputs": [
        {
          "name": "stdout",
          "output_type": "stream",
          "text": [
            "ホームズ:  シャーリー・ジョン : ジョン・ヘンリー. クオライト・ブラウン 。 トム・フォード _ Comments (0) (2) (1) ★★ ジョー・ハーヴェイ 主演 ダニエル・バズレーロ 、 ジョニー・デップ オードリー・クーパー を観たら、やっぱり、シャーリーは好きだった。(^^♪ ところで、あの、ジョニーは「オー\n",
            "ホームズホームズ vs.  _ 探偵ホームズ・ホームズの推理 弁護士ホームズ: 事件は、事件の詳細を推理し、その捜査を開始する。 「ホームズ」というのは、ホームズが「推理癖のある人」に、何事に対しても、的確に対処していくことが求められる、と言うことです。 ただ、それで、犯人はホームズ(ホームズ)というわけではないと思うんです。 犯人が推理好き、というような理由ではなくて、むしろ、推理小説作家とか\n",
            "ホームズ.. (hat ean).(C) - C,,C シリンダ・ディスカッション (Compier plaza) )() (3) 3) 4) 5) 6) 7) 1. 2 4 1. 4 5 7. 9 (アソビティ) – 1) 9. 10 (エ) 8. 11 (バディティ・オブ・ジ・ラヴェル (\n",
            "ホームズで はい、 です。 と C. だったら 何でも 答えられない か、と思ったので、 「..... 」 で 「...そうですね 、」 (?) という具合に 「えっと、、......」 「な、な... 「さっき ねぇ、そんなこと 分かってるよ って...」 ということに 気がついちゃって...... あー さ\n",
            "ホームズリズ・オブ・ギャラクシー -  C(nstrumental key) のシリーズ。 リズの冒険 スペクター エピソード3:『ラストマン』 - 『ラストマンの冒険』の続編。 『リズは、冒険する者たちから奪った手紙』(原題: ゼロ・エミッション)のストーリー。 日本では『リズが、どうやって生きているか?』という謎に満ち溢れていたところから始まる。 また、謎\n",
            "ホームズ,. C. and teen in the method (a del et a normal der sonic) ) (C) : 1 ニューヨーク、ロンドンのボストン、シドニー、ロンドン、ニューヨークにある私立大学。 ワシントン校。 1987年に創設。 1992年に新設された。 1995年、シカゴ大学からロンドン大学とシカゴ大学の2学部を分離して創立。 2000年にシカゴ大のオープンキャンパスをオープン\n",
            "ホームズが の CC で録音された音源を 聴かさせていただきました。 ご購入いただいた方が もっとよい商品に出会えるよう、 心がけている次第です。 ただ、私は ちょっと前の デジイチでの写真がとれなくて、撮影しちゃいました(笑) いつもは こちらの方で撮ったものでしたので、この機会に 再度 ブログ更新していこうと思います! 本\n",
            "ホームズは、この映画で「僕らは、まだ生まれつきで、君が生を受けたことを忘れる」と宣言しています。 あの映画はによく似ていますが、これはとは同じなんでしょうね。それよりも、の「君」が好きなのでした。 「あなたは君に、僕の人生は何もかもを尋ねることができない」と言います。 彼はその「あなた」に「私達」の未来を問い掛け\n",
            "ホームズで C という番組を目にしました。この番組は、いわゆる「」で、私も「C」という単語がありますが、「、」と「()」、「(C)」は「n」の2種類があって、「0」を「2」とすると、「n(n)」は、「1n」、「n」「(o)、(c),(e)」「m」「n」(C、n)\n",
            "ホームズ_ 1. n _ 4 件のコメント とてもわかりやすく、参考になるかと思えたので、もう一度、o.1サンプルを見て、そのまんまの答えで.ホームズの本にしました。(笑) で、「この本、よく見ると、ホームズが何と言おうと、シャーロックホームズに似ていますね」って言って、私はホームズを嫌いに思いませんでしたよ。 でも、\n"
          ]
        }
      ],
      "source": [
        "model_path = \"./model\"\n",
        "\n",
        "tokenizer = AutoTokenizer.from_pretrained(model_path)\n",
        "model = GPT2LMHeadModel.from_pretrained(model_path)\n",
        "\n",
        "prompt = \"ホームズ\"\n",
        "inputs = tokenizer(prompt, return_tensors=\"pt\", padding=True)\n",
        "\n",
        "output = model.generate(\n",
        "  input_ids = inputs['input_ids'],\n",
        "  attention_mask = inputs['attention_mask'],\n",
        "  max_length = 100,                       # 生成する文章の最大長を指定\n",
        "  num_return_sequences =  10,             # 生成する文の数\n",
        "  no_repeat_ngram_size = 2,               # n-gramの繰り返しを避ける\n",
        "  top_k = 50,                             # 上位k個の単語からランダムに選ぶ\n",
        "  top_p = 0.95,                           # 上位確率pの単語からランダムに選ぶ\n",
        "  temperature = 0.95,                     # ランダム性の制御\n",
        "  do_sample = True,                       # サンプリングを有効にする\n",
        "  pad_token_id = tokenizer.eos_token_id   # pad_token_idをeos_token_idに設定\n",
        ")\n",
        "\n",
        "for generated_text in output:\n",
        "  print(tokenizer.decode(generated_text, skip_special_tokens=True))"
      ]
    }
  ],
  "metadata": {
    "accelerator": "GPU",
    "colab": {
      "provenance": []
    },
    "kernelspec": {
      "display_name": "Python 3",
      "name": "python3"
    },
    "language_info": {
      "codemirror_mode": {
        "name": "ipython",
        "version": 3
      },
      "file_extension": ".py",
      "mimetype": "text/x-python",
      "name": "python",
      "nbconvert_exporter": "python",
      "pygments_lexer": "ipython3",
      "version": "3.10.11"
    }
  },
  "nbformat": 4,
  "nbformat_minor": 0
}
